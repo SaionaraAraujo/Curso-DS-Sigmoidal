{
  "nbformat": 4,
  "nbformat_minor": 0,
  "metadata": {
    "colab": {
      "name": "Operadores Aritméticos.ipynb",
      "provenance": [],
      "collapsed_sections": [],
      "include_colab_link": true
    },
    "kernelspec": {
      "name": "python3",
      "display_name": "Python 3"
    }
  },
  "cells": [
    {
      "cell_type": "markdown",
      "metadata": {
        "id": "view-in-github",
        "colab_type": "text"
      },
      "source": [
        "<a href=\"https://colab.research.google.com/github/SaionaraAraujo/Teste/blob/master/Operadores_Aritm%C3%A9ticos.ipynb\" target=\"_parent\"><img src=\"https://colab.research.google.com/assets/colab-badge.svg\" alt=\"Open In Colab\"/></a>"
      ]
    },
    {
      "cell_type": "markdown",
      "metadata": {
        "id": "5sD7GjVVSSc5"
      },
      "source": [
        "<img alt=\"Colaboratory logo\" width=\"15%\" src=\"https://raw.githubusercontent.com/carlosfab/escola-data-science/master/img/novo_logo_bg_claro.png\">\n",
        "\n",
        "#### **Python do Zero**\n",
        "*by [sigmoidal.ai](https://sigmoidal.ai)*\n",
        "\n",
        "---\n",
        "\n",
        "## Operadores Aritméticos\n",
        "\n",
        "<center><img alt=\"Math\" width=\"35%\" src=\"https://image.freepik.com/free-psd/flat-lay-pi-sign-mathematics_23-2148458911.jpg\"></center>\n",
        "\n",
        "\n",
        "Nesta aula, vou te mostrar quais são os operadores aritméticos do Python, além da sua ordem de precedência quando compondo uma expressão matemática.\n",
        "\n",
        "Os operadores aritméticos do Python são:\n",
        "\n",
        "* `+` Adição\n",
        "* `-` Subtração\n",
        "* `*` Multiplicação\n",
        "* `/` Divisão\n",
        "* `**` Exponenciação\n",
        "* `//` Divisão (resultado inteiro)\n",
        "\n",
        "Abaixo, podemos ver exemplos de uso desses operadores."
      ]
    },
    {
      "cell_type": "code",
      "metadata": {
        "id": "8IwDiibkUF1o",
        "colab": {
          "base_uri": "https://localhost:8080/"
        },
        "outputId": "10ed00cb-e6ed-4bf6-a471-bca73c151f5a"
      },
      "source": [
        "# adição\n",
        "13 + 45 + 89 + 90"
      ],
      "execution_count": 2,
      "outputs": [
        {
          "output_type": "execute_result",
          "data": {
            "text/plain": [
              "237"
            ]
          },
          "metadata": {},
          "execution_count": 2
        }
      ]
    },
    {
      "cell_type": "code",
      "metadata": {
        "id": "hX-rwGYCWezE",
        "colab": {
          "base_uri": "https://localhost:8080/",
          "height": 35
        },
        "outputId": "5389be1d-6c80-43eb-8542-ef9e105e3a2b"
      },
      "source": [
        "# subtração\n",
        "87 - 700"
      ],
      "execution_count": null,
      "outputs": [
        {
          "output_type": "execute_result",
          "data": {
            "text/plain": [
              "-613"
            ]
          },
          "metadata": {
            "tags": []
          },
          "execution_count": 3
        }
      ]
    },
    {
      "cell_type": "code",
      "metadata": {
        "id": "difWa1hYWe8G",
        "colab": {
          "base_uri": "https://localhost:8080/",
          "height": 35
        },
        "outputId": "9815c1ec-c883-4b7f-b0f2-4615c139d479"
      },
      "source": [
        "# multiplicação\n",
        "7 * 10"
      ],
      "execution_count": null,
      "outputs": [
        {
          "output_type": "execute_result",
          "data": {
            "text/plain": [
              "70"
            ]
          },
          "metadata": {
            "tags": []
          },
          "execution_count": 4
        }
      ]
    },
    {
      "cell_type": "code",
      "metadata": {
        "id": "aS_2zy7EWfGS",
        "colab": {
          "base_uri": "https://localhost:8080/",
          "height": 35
        },
        "outputId": "510a5638-05ea-4bee-eef6-d81cc83d9c27"
      },
      "source": [
        "# divisão\n",
        "70 / 3"
      ],
      "execution_count": null,
      "outputs": [
        {
          "output_type": "execute_result",
          "data": {
            "text/plain": [
              "23.333333333333332"
            ]
          },
          "metadata": {
            "tags": []
          },
          "execution_count": 5
        }
      ]
    },
    {
      "cell_type": "code",
      "metadata": {
        "id": "NmYClsMRWgvE",
        "colab": {
          "base_uri": "https://localhost:8080/",
          "height": 35
        },
        "outputId": "4fdbdf65-ba54-479d-cdc0-44ab66a7779a"
      },
      "source": [
        "# divisão (resultado inteiro)\n",
        "70 // 3"
      ],
      "execution_count": null,
      "outputs": [
        {
          "output_type": "execute_result",
          "data": {
            "text/plain": [
              "23"
            ]
          },
          "metadata": {
            "tags": []
          },
          "execution_count": 6
        }
      ]
    },
    {
      "cell_type": "markdown",
      "metadata": {
        "id": "c1dKHcyl2HIp"
      },
      "source": [
        "$$\n",
        "7^2\n",
        "$$"
      ]
    },
    {
      "cell_type": "code",
      "metadata": {
        "id": "bSJLtcQUWfQJ",
        "colab": {
          "base_uri": "https://localhost:8080/",
          "height": 35
        },
        "outputId": "61dfc2f5-727d-4246-ac57-6135d68e1ffb"
      },
      "source": [
        "# exponenciação\n",
        "7 ** 2"
      ],
      "execution_count": null,
      "outputs": [
        {
          "output_type": "execute_result",
          "data": {
            "text/plain": [
              "49"
            ]
          },
          "metadata": {
            "tags": []
          },
          "execution_count": 8
        }
      ]
    },
    {
      "cell_type": "markdown",
      "metadata": {
        "id": "UIDcLOrxUhc2"
      },
      "source": [
        "## Ordem de precedência\n",
        "\n",
        "Se já faz um tempo desde o seu último contato com a matemática, vale a pena relembrarmos a ordem correta das operações matemáticas.\n",
        "\n",
        "$$\n",
        "\\begin{aligned}\n",
        "x & = 3 + 10 * 3 \\\\\n",
        "x & = 3 + (10 * 3) \\\\\n",
        "x & = 3 + 30 \\\\\n",
        "x & = 33\n",
        "\\end{aligned}\n",
        "$$\n",
        "\n",
        "Lembre-se que a ordem das operações matemáticas é:\n",
        "\n",
        "* 1º Parêntesis;\n",
        "* 2º Expoentes;\n",
        "* 3º Multiplicações e Divisões; (da esquerda para a direita)\n",
        "* 4º Somas e Subtrações. (da esquerda para a direita)\n",
        "\n",
        "Vamos ver como isso funciona na prática com Python."
      ]
    },
    {
      "cell_type": "code",
      "metadata": {
        "id": "mqoGe3Ov0MTa",
        "colab": {
          "base_uri": "https://localhost:8080/",
          "height": 35
        },
        "outputId": "0540687d-8cbc-473f-a96f-1f3594e0b6d7"
      },
      "source": [
        "# primeiro é resolvida a multiplicação e depois a subtração\n",
        "10 * 3"
      ],
      "execution_count": null,
      "outputs": [
        {
          "output_type": "execute_result",
          "data": {
            "text/plain": [
              "30"
            ]
          },
          "metadata": {
            "tags": []
          },
          "execution_count": 9
        }
      ]
    },
    {
      "cell_type": "code",
      "metadata": {
        "id": "A-zS3HT3VaQ4",
        "colab": {
          "base_uri": "https://localhost:8080/",
          "height": 35
        },
        "outputId": "37801f41-012f-4cc1-de51-e8f03214f1fc"
      },
      "source": [
        "# multiplicamos, e depois somamos o resultado\n",
        "3 + 30"
      ],
      "execution_count": null,
      "outputs": [
        {
          "output_type": "execute_result",
          "data": {
            "text/plain": [
              "33"
            ]
          },
          "metadata": {
            "tags": []
          },
          "execution_count": 10
        }
      ]
    },
    {
      "cell_type": "markdown",
      "metadata": {
        "id": "z-5iRQaqW2rK"
      },
      "source": [
        "Mesmo acrescentando um pouquinho mais de complexidade, o Python consegue lidar com extrema facilidade, cabendo a nós termos atenção às operações realizadas.\n",
        "\n",
        "$$\n",
        "\\begin{aligned}\n",
        "x & = 5 + 9 - 2^2 + \\frac{9}{3} \\\\\n",
        "x & = 5 + 9 - 4 + \\frac{9}{3} \\\\\n",
        "x & = 5 + 9 - 4 + 3 \\\\\n",
        "x & = 14 - 4 + 3 \\\\\n",
        "x & = 10 + 3 \\\\\n",
        "x & = 13 \\\\\n",
        "\\end{aligned}\n",
        "$$\n",
        "\n"
      ]
    },
    {
      "cell_type": "code",
      "metadata": {
        "id": "kTZcYeg0YyLi",
        "colab": {
          "base_uri": "https://localhost:8080/",
          "height": 35
        },
        "outputId": "55d28ac4-f8fc-409f-93fc-46832917723f"
      },
      "source": [
        "# resolução da equação acima usando Python\n",
        "5 + 9 - 2**2 + 9/3"
      ],
      "execution_count": null,
      "outputs": [
        {
          "output_type": "execute_result",
          "data": {
            "text/plain": [
              "13.0"
            ]
          },
          "metadata": {
            "tags": []
          },
          "execution_count": 11
        }
      ]
    },
    {
      "cell_type": "code",
      "metadata": {
        "id": "bYnc7s00OZ0r",
        "colab": {
          "base_uri": "https://localhost:8080/",
          "height": 35
        },
        "outputId": "09d92646-a31f-43cf-8e02-99f7c6342cd8"
      },
      "source": [
        "5 + 9 - (2**2) + (9/3)"
      ],
      "execution_count": null,
      "outputs": [
        {
          "output_type": "execute_result",
          "data": {
            "text/plain": [
              "13.0"
            ]
          },
          "metadata": {
            "tags": []
          },
          "execution_count": 12
        }
      ]
    },
    {
      "cell_type": "markdown",
      "metadata": {
        "id": "WR4ng26uVb-H"
      },
      "source": [
        "Expressões maiores podem confundir, então o segredo é anotar a correta ordem de execução das operações matemáticas:\n",
        "\n",
        "1. Parêntesis\n",
        "2. Expoentes\n",
        "3. Multiplicações e Divisões (esquerda para a direita)\n",
        "4. Somas e subtrações (esquerda para a direita)\n",
        "\n",
        "#### Exemplo 1\n",
        "\n",
        "Calcula a média simples das notas das 3 provas de matemática\n",
        "* Nota 1 = 8,5\n",
        "* Nota 2 = 9,2\n",
        "* Nota 3 = 7,5"
      ]
    },
    {
      "cell_type": "code",
      "metadata": {
        "id": "jhwL0H9IZaWN",
        "colab": {
          "base_uri": "https://localhost:8080/",
          "height": 35
        },
        "outputId": "0692cc4c-ac19-45de-e380-6a7453fb2ead"
      },
      "source": [
        "# resposta\n",
        "(8.5 + 9.2 + 7.5) / 3"
      ],
      "execution_count": null,
      "outputs": [
        {
          "output_type": "execute_result",
          "data": {
            "text/plain": [
              "8.4"
            ]
          },
          "metadata": {
            "tags": []
          },
          "execution_count": 14
        }
      ]
    },
    {
      "cell_type": "markdown",
      "metadata": {
        "id": "NIjH5tqKaGrX"
      },
      "source": [
        "#### Exemplo 2\n",
        "\n",
        "Qual a área de \n",
        "\n",
        "* O volume de uma esfera é calculada por meio da expressão $V = \\frac{4}{3} \\pi r^3$.\n",
        "* Calcule o volume de uma esfera de 5 metros?"
      ]
    },
    {
      "cell_type": "code",
      "metadata": {
        "id": "RY1xwXd6ZxDl",
        "colab": {
          "base_uri": "https://localhost:8080/",
          "height": 35
        },
        "outputId": "9dc1d8fd-8e2c-4053-ced1-557ecba95ea2"
      },
      "source": [
        "# resposta\n",
        "4/3 * 3.14 * 5 ** 3"
      ],
      "execution_count": null,
      "outputs": [
        {
          "output_type": "execute_result",
          "data": {
            "text/plain": [
              "523.3333333333334"
            ]
          },
          "metadata": {
            "tags": []
          },
          "execution_count": 15
        }
      ]
    },
    {
      "cell_type": "code",
      "metadata": {
        "id": "W2HSOxqvPA6F",
        "colab": {
          "base_uri": "https://localhost:8080/",
          "height": 35
        },
        "outputId": "0fec2d8e-da34-4d54-b40f-adb519a6043f"
      },
      "source": [
        "# resposta\n",
        "(4/3) * (3.14) * (5 ** 3)"
      ],
      "execution_count": null,
      "outputs": [
        {
          "output_type": "execute_result",
          "data": {
            "text/plain": [
              "523.3333333333334"
            ]
          },
          "metadata": {
            "tags": []
          },
          "execution_count": 16
        }
      ]
    },
    {
      "cell_type": "markdown",
      "metadata": {
        "id": "3QRnB_zk_0ON"
      },
      "source": [
        "## Exercícios\n",
        "\n",
        "Agora que vimos como utilizar os operadores, vamos resolver algumas equações.\n",
        "<center><img alt=\"Math\" width=\"35%\" src=\"https://image.freepik.com/free-vector/people-budgeting-order-plan-personal-finance_53876-64613.jpg\"></center>\n"
      ]
    },
    {
      "cell_type": "markdown",
      "metadata": {
        "id": "xUIKEVo2A73V"
      },
      "source": [
        "#### Exercício 1\n",
        "\n",
        "Calcule:\n",
        "$$\n",
        "\\begin{aligned}\n",
        "x & = 15 - 5 + 3^2 \\\\\n",
        "\\end{aligned}\n",
        "$$"
      ]
    },
    {
      "cell_type": "code",
      "metadata": {
        "id": "EZ8rnqrK1K0L",
        "colab": {
          "base_uri": "https://localhost:8080/"
        },
        "outputId": "3bbf5a10-1132-4cc9-9dac-d5b10f302d99"
      },
      "source": [
        "# resposta\n",
        "15-5+3**2"
      ],
      "execution_count": 3,
      "outputs": [
        {
          "output_type": "execute_result",
          "data": {
            "text/plain": [
              "19"
            ]
          },
          "metadata": {},
          "execution_count": 3
        }
      ]
    },
    {
      "cell_type": "code",
      "metadata": {
        "id": "L_tEZCEYBlGd",
        "colab": {
          "base_uri": "https://localhost:8080/"
        },
        "outputId": "ef0a202c-1fd5-493b-d400-5e26a9beec72"
      },
      "source": [
        "#@title Solução\n",
        "15 - 5 + (3**2)"
      ],
      "execution_count": 4,
      "outputs": [
        {
          "output_type": "execute_result",
          "data": {
            "text/plain": [
              "19"
            ]
          },
          "metadata": {},
          "execution_count": 4
        }
      ]
    },
    {
      "cell_type": "markdown",
      "metadata": {
        "id": "KKtUUwTRCPD0"
      },
      "source": [
        "#### Exercício 2\n",
        "\n",
        "Calcule:\n",
        "\n",
        "$$\n",
        "\\begin{aligned}\n",
        "x & = 20 + 5  /  7 * 9 \\\\\n",
        "\\end{aligned}\n",
        "$$"
      ]
    },
    {
      "cell_type": "code",
      "metadata": {
        "id": "3Mw8i0clBtN0",
        "colab": {
          "base_uri": "https://localhost:8080/"
        },
        "outputId": "c2b783a5-9891-464b-e508-4e04c4f265f2"
      },
      "source": [
        "# resposta\n",
        "20+5/7*9"
      ],
      "execution_count": 5,
      "outputs": [
        {
          "output_type": "execute_result",
          "data": {
            "text/plain": [
              "26.42857142857143"
            ]
          },
          "metadata": {},
          "execution_count": 5
        }
      ]
    },
    {
      "cell_type": "code",
      "metadata": {
        "id": "hvkeoY0pByiP",
        "colab": {
          "base_uri": "https://localhost:8080/"
        },
        "outputId": "e529aaea-11f1-4bc5-f8c2-697c9fca6319"
      },
      "source": [
        "#@title Solução\n",
        "20+(5/7) * 9"
      ],
      "execution_count": 6,
      "outputs": [
        {
          "output_type": "execute_result",
          "data": {
            "text/plain": [
              "26.42857142857143"
            ]
          },
          "metadata": {},
          "execution_count": 6
        }
      ]
    },
    {
      "cell_type": "markdown",
      "metadata": {
        "id": "P5tfTUo9DIsQ"
      },
      "source": [
        "#### Exercício 3\n",
        "\n",
        "Calcule:\n",
        "\n",
        "$$\n",
        "\\begin{aligned}\n",
        "x & = 17 * 3  - 4^2  / 3 \\\\\n",
        "\\end{aligned}\n",
        "$$"
      ]
    },
    {
      "cell_type": "code",
      "metadata": {
        "id": "vNwc8aLMD1u3",
        "colab": {
          "base_uri": "https://localhost:8080/"
        },
        "outputId": "93488c1a-c174-49bc-edc4-0c9829a9d0a1"
      },
      "source": [
        "# resposta\n",
        "17*3-4**2/3"
      ],
      "execution_count": 7,
      "outputs": [
        {
          "output_type": "execute_result",
          "data": {
            "text/plain": [
              "45.666666666666664"
            ]
          },
          "metadata": {},
          "execution_count": 7
        }
      ]
    },
    {
      "cell_type": "code",
      "metadata": {
        "id": "F_fhVYzHC25y",
        "colab": {
          "base_uri": "https://localhost:8080/"
        },
        "outputId": "a5cf7bbb-b988-4e8e-cb8a-1eeeede2b320"
      },
      "source": [
        "#@title Solução\n",
        "(17*3) - (4**2 /3)"
      ],
      "execution_count": 8,
      "outputs": [
        {
          "output_type": "execute_result",
          "data": {
            "text/plain": [
              "45.666666666666664"
            ]
          },
          "metadata": {},
          "execution_count": 8
        }
      ]
    }
  ]
}