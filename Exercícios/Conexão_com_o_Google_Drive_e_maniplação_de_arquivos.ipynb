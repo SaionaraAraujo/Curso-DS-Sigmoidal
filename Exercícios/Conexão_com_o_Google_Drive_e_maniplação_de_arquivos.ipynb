{
  "nbformat": 4,
  "nbformat_minor": 0,
  "metadata": {
    "colab": {
      "name": "Conexão com o Google Drive e maniplação de arquivos.ipynb",
      "provenance": [],
      "mount_file_id": "12458XIcKnlNYDPBfC7HPZ5hOTQoqxu8q",
      "authorship_tag": "ABX9TyOPmGP9vi0s7mVSG12g1Kat",
      "include_colab_link": true
    },
    "kernelspec": {
      "name": "python3",
      "display_name": "Python 3"
    },
    "language_info": {
      "name": "python"
    }
  },
  "cells": [
    {
      "cell_type": "markdown",
      "metadata": {
        "id": "view-in-github",
        "colab_type": "text"
      },
      "source": [
        "<a href=\"https://colab.research.google.com/github/SaionaraAraujo/Curso-DS-Sigmoidal/blob/master/Conex%C3%A3o_com_o_Google_Drive_e_manipla%C3%A7%C3%A3o_de_arquivos.ipynb\" target=\"_parent\"><img src=\"https://colab.research.google.com/assets/colab-badge.svg\" alt=\"Open In Colab\"/></a>"
      ]
    },
    {
      "cell_type": "markdown",
      "metadata": {
        "id": "pyhFSk8SFt7s"
      },
      "source": [
        "# **Conexão com o Google Drive e maniplação de arquivos**"
      ]
    },
    {
      "cell_type": "markdown",
      "metadata": {
        "id": "Do-39XXsGCF8"
      },
      "source": [
        "Se o Colab faz parte do conjunto de ferramentas da Google, era de se esperar que houvesse fácil integração com o Drive. Isso facilita o acesso a arquivos compartilhados, garantir que arquivos estejam salvos em lugares seguros e todas as facilidades que o Drive nos tras desde sempre. Sendo assim, nessa aula aprendemos sobre essa conexão, as ferramentas nativas (e de fácil acesso do Colab) e manipulação de arquivos. Vamos aos exercícios!!"
      ]
    },
    {
      "cell_type": "markdown",
      "metadata": {
        "id": "YSZ-MPGeGqnu"
      },
      "source": [
        "Primeiro passo é conectar o Colab ao seu Drive. Após executar o comando, o Colab vai te pedir um código de autenticação que você conseguirá após acessar o link que será exibido após o comando:"
      ]
    },
    {
      "cell_type": "code",
      "metadata": {
        "id": "VsC5XIl0GlKr"
      },
      "source": [
        "#conectando com o Drive:\n",
        "from google.colab import drive"
      ],
      "execution_count": null,
      "outputs": []
    },
    {
      "cell_type": "markdown",
      "metadata": {
        "id": "U0ytWu3SHUAp"
      },
      "source": [
        "Após feita a conexão é preciso \"montar\" seu drive neste ambiente:"
      ]
    },
    {
      "cell_type": "code",
      "metadata": {
        "colab": {
          "base_uri": "https://localhost:8080/"
        },
        "id": "qGorYK4YHaef",
        "outputId": "e8f01d5c-4217-4984-9b22-444b3c5937d0"
      },
      "source": [
        "#montando o drive:\n",
        "drive.mount (\"/content/drive\")"
      ],
      "execution_count": null,
      "outputs": [
        {
          "output_type": "stream",
          "name": "stdout",
          "text": [
            "Drive already mounted at /content/drive; to attempt to forcibly remount, call drive.mount(\"/content/drive\", force_remount=True).\n"
          ]
        }
      ]
    },
    {
      "cell_type": "markdown",
      "metadata": {
        "id": "UD8xT-omIZuv"
      },
      "source": [
        "Agora seu drive está montado e disonível para ser acessado. Para visualizar os arquivos que nele estão, você pode utilizar o comando `!ls`:"
      ]
    },
    {
      "cell_type": "code",
      "metadata": {
        "colab": {
          "base_uri": "https://localhost:8080/"
        },
        "id": "KeEXht0pIrlq",
        "outputId": "8182f8a4-b9f0-4d14-8779-95d5faa7ce4b"
      },
      "source": [
        "!ls \"drive/MyDrive\""
      ],
      "execution_count": null,
      "outputs": [
        {
          "output_type": "stream",
          "name": "stdout",
          "text": [
            " 089.pdf\n",
            "'2015, Template Projeto-saionara (1).gdoc'\n",
            "'2015, Template Projeto-saionara.gdoc'\n",
            "'2016, Projeto e-Sinais (Saioanara).gdoc'\n",
            "'2016, Projeto e-Sinais (somente Saionara) - 1 (OBS Pablo).gdoc'\n",
            "'2017-04-24- Tecnologia Assistiva e Software Educacional (Jornada Pedagógica 2017).gslides'\n",
            "'50 CHAVEIROS.pdf · versão 1.pdf'\n",
            "'Aéreo - Orçamentos e comprovantes.gdoc'\n",
            "'Aéreo - Pedido Allexandre.gdoc'\n",
            "'Anexo 01 - Esquema Conceitual.jpg'\n",
            "'__Anexo I - Ficha de inscrição.docx'\n",
            "'__Anexo I - Ficha de inscrição.docx.gdoc'\n",
            "'__Anexo I - Ficha de inscrição.gdoc'\n",
            " Anexos-Edital-No-01-PRPGI-PIBIC-IFBA-FAPESB-2015_saionara.gdoc\n",
            " Anteprojeto_Maiane_Salomao_1.0.docx\n",
            "'apostila amigurumi.pdf'\n",
            "'Apresentação 1 - AMS 2.gslides'\n",
            "'Apresentação DA.gslides'\n",
            "'Apresentação final Programas Universais.gslides'\n",
            "'Apresentação Mineração de Dados.gslides'\n",
            "'Artigo connepi'\n",
            "'Artigo Connepi Mineração de Dados'\n",
            " Artigo_Mineração_2016.doc\n",
            " Artigo_Mineração_2016.doc.gdoc\n",
            "'Artigo Mobile.gdoc'\n",
            " Atividade_Diego.gdoc\n",
            "'ATIVIDADES - TI'\n",
            " aula01\n",
            " aula02.ipynb\n",
            " aula03\n",
            " aula03.ipynb\n",
            "'Avaliação do SIPF.docx'\n",
            "'backlog background.gsheet'\n",
            " backup-IFBA1.sql\n",
            " backup.zip\n",
            " Barema.pdf\n",
            "'BAREMA - Saionara.xlsx'\n",
            "'BD Projeto.rar'\n",
            "'Be OS.gslides'\n",
            "'Capa para CD.gdoc'\n",
            "'Capa para CD - Kauanna.gdoc'\n",
            " Certificados\n",
            "'Colab Notebooks'\n",
            "'Conceitual(04-11).brM'\n",
            " CONNEPI2016-LacerdaEtAl-Mineração-6.docx\n",
            " CONNEPI2016-LacerdaEtAl-Mineração-6.docx.gdoc\n",
            "'CÓPIA CONTROLE  luciano Alex ZÉ  2014.xlsx.gsheet'\n",
            "'Cópia de Hecate.gslides'\n",
            "'Cópia de Nathaniel.gslides'\n",
            "'Cópia de Snug.gslides'\n",
            "'Cronograma PJTC.gsheet'\n",
            " CSBC2016-SilvaEtAl-1.gslides\n",
            "'~$cumentação SIPF Sistemas Integrados Paulo Freire.docx'\n",
            " Curriculo\n",
            " CURRICULO_SAIONARA.pdf\n",
            " DadosIntegrantesProjeto.gsheet\n",
            " Diego.docx\n",
            "'DOC-20171115-WA0001 (1).gdoc'\n",
            "'DOC-20171115-WA0001 (2).gdoc'\n",
            "'DOC-20171115-WA0001 (3).gdoc'\n",
            " DOC-20171115-WA0001.gdoc\n",
            "'Documentação SIPF Sistemas Integrados Paulo Freire.docx'\n",
            "'Documentação SisFarma.docx.gdoc'\n",
            " Documentos\n",
            "'Documento sem título.gdoc'\n",
            " downloadfile-9.bin\n",
            "'É esse.docx'\n",
            "'e-Sinais - Final (outubro).rar'\n",
            " e-Sinais.rar\n",
            "'FluxogramaSECOMP_Atualizado (26-11).jpeg'\n",
            " FluxogramaSECOMP.dia\n",
            " FluxogramaSECOMP.dia~~\n",
            " FluxogramaSECOMP.jpeg\n",
            "'Formulário sem título (1).gform'\n",
            "'Formulário sem título.gform'\n",
            "'Foto de Saionara.gdoc'\n",
            "'Gestão de Projetos - Primavera.gslides'\n",
            "'Gestão de Qualidade.gdoc'\n",
            "'Gestão de Qualidade.pdf'\n",
            "'IFBA-BSI-Requisitos-v1.0 (1).doc.gdoc'\n",
            " IFBA-BSI-Requisitos-v1.0.doc.gdoc\n",
            "'IFBA-Modelo de Relatorio de Avaliacao-v1.0.doc'\n",
            " IFBA-TCC\n",
            "'Integer Overflow.gslides'\n",
            " IoT\n",
            " livro_beta2.pdf\n",
            "'LOGICO_(01-11).brM'\n",
            "'lógico (01 - 11).jpg'\n",
            "'LOGICO(12-11).brM'\n",
            "'Lógico (24 - 10).jpg'\n",
            "'mapeamento BD noia (16_10).docx.gdoc'\n",
            "'mapeamento BD noia (16_10).docx.rar'\n",
            "'Mapemaneto de usuários das pastas no x público.gdoc'\n",
            "'Marco Civil.pptx'\n",
            "'Material Estudo de Caso e-Sinais'\n",
            "'Mineração de Dados - Trabalho'\n",
            " Minimundo.gdoc\n",
            " Mobile.gslides\n",
            "'Modelo Capa  Monografia CDs Atual.gdoc'\n",
            "'Monografia_TCC2 - v14 - Versão com sugestões da banca  (Saionara).docx'\n",
            "'NANINHA VARIOS MODELOS.pdf'\n",
            " NoSQL.docx\n",
            "'O Pequeno Príncipe Traduzido.pdf'\n",
            "'Planilha sem título (1).gsheet'\n",
            "'Planilha sem título.gsheet'\n",
            " POSTER_CONNEPI2016.pptx\n",
            " POSTER_CONNEPI2016.pptx.gslides\n",
            "'Processo Controlar os custos.pdf'\n",
            "'processos de planejamento de tempo.docx'\n",
            "'Projeto AMS I - Catia Oliveira e Saionara Araújo (1).docx.doc'\n",
            "'Projeto AMS I - Catia Oliveira e Saionara Araújo.docx.doc'\n",
            "'Projeto de Pesquisa_Mestrado - v2 (Pablo).gdoc'\n",
            "'Projeto de Pesquisa_Mestrado - v2 (Saionara) (1).gdoc'\n",
            "'Projeto de Pesquisa_Mestrado - v2 (Saionara) (2).gdoc'\n",
            "'Projeto de Pesquisa_Mestrado - v2 (Saionara) (3).gdoc'\n",
            "'Projeto de Pesquisa_Mestrado - v2 (Saionara) (4).gdoc'\n",
            "'Projeto de Pesquisa_Mestrado - v2 (Saionara).gdoc'\n",
            "'Projeto de Pesquisa_TCC - v8 (Pablo) - Versão final TCC-I.pdf'\n",
            "'Projeto do mestrado'\n",
            "'Projeto e-Sinais'\n",
            " Projeto_Final.docx.gdoc\n",
            "'Projeto - Gerenciamento de Compras - IFBA.docx'\n",
            "'Projeto - Gerenciamento de Compras - IFBA (Modelo Lógico).docx'\n",
            "'Projeto - Gerenciamento de Compras - IFBA (Modelo Lógico v. 2.0).docx'\n",
            "'Projeto redes 1'\n",
            "'prova CA 2a 2014.2 Saionara da Silva Araújo.pdf'\n",
            "'prova CA 3a 2014.2.pdf'\n",
            " recibo_13062020185732.png\n",
            "'Relatório de atividades desenvolvidas.gdoc'\n",
            "'Relatório Fevereiro 2014- Filipe Freitas.doc'\n",
            "'Relatório_Final_PJTC (Saionara).gdoc'\n",
            " Relatorio_Parcial_CEP_Novel.doc\n",
            " Relatorio_Parcial_CEP_Novel.doc.gdoc\n",
            "'Respostas de Alex (II).txt'\n",
            "'Respostas de Alex.txt'\n",
            "'resumoArtigoSBIE2017 - 6 (Pablo).docx'\n",
            "'resumoArtigoSBIE2017 - 6 (Pablo).docx.gdoc'\n",
            "'resumo artigo sbie 2017.docx'\n",
            " resumoArtigoSBIE2017.docx.gdoc\n",
            "'Roteiro para apresentação de Cretchas.gdoc'\n",
            "'Saionara - Pré-projeto 1 (Correções Saionara).gdoc'\n",
            "'[Saionara] Projeto - Gerenciamento de Compras - IFBA (Modelo Lógico) - 2 (Corrigido por Pablo).docx'\n",
            "'[Saionara] Projeto - Gerenciamento de Compras - IFBA.rar'\n",
            "'[Saionara] Projeto - Gerenciamento de Compras - IFBA (Sugestão Conceitual Pablo).brM'\n",
            "'[Saionara] Projeto - Gerenciamento de Compras - IFBA (Sugestão Conceitual Pablo).jpg'\n",
            "'(SAIONARA) Resumo, Esquema físico, Conclusão e Apêndices - 07 - 12.docx'\n",
            "'(SAIONARA) Resumo, Esquema físico e Conclusão - 07 - 12.docx'\n",
            " SANDRA_ANDRADE_SANTOS.pdf\n",
            "'Secitec 2014'\n",
            "'__SECITEC - insert minicurso (Sidney, Sayonara e Joedson).sql'\n",
            " SistemaDeDatashow.zip\n",
            "'Sprint 4 .gslides'\n",
            "'Sprint 4.gslides'\n",
            " Sprint_4_SRUS_Feedback.pdf\n",
            "'Sprint 5.gslides'\n",
            " Sprint_5_SRUS_Feedback.pdf\n",
            "'Sprint 7.gslides'\n",
            "'StokNet - Mockups.ep'\n",
            " TCC\n",
            "'teste exploratório Sirius2.gdoc'\n",
            "'Trabalho Redes.gdoc'\n",
            "'Tv digital.pptx.gslides'\n",
            " Untitled\n",
            "'Urso - familia.pdf · versão 1.pdf'\n",
            "'Versão final + regra de negócio.docx'\n",
            "'Versão final + regra de negócio + quadro de tarefas atualizado.docx'\n",
            "'Versão final + regra de negócio + quadro de tarefas atualizado + NovosItens.docx'\n",
            "'Versão final + regra de negócio + quadro de tarefas atualizado + NovosItens - FINAAL CABÔ (FALTA XANDY REVISAR).docx'\n",
            "'Versão Pós-Final + correções de formatação (falta inserir citações) - Revisado 03-04-15.docx'\n",
            " VID_20190212_205125417.mp4\n",
            "'Vídeos - Repetição e Importação de resultados'\n",
            " WIE\n",
            " WP_20141027_007.mp4\n",
            "'~WRL0344.tmp'\n",
            "'~WRL2967.tmp'\n",
            " WSouza\n"
          ]
        }
      ]
    },
    {
      "cell_type": "markdown",
      "metadata": {
        "id": "9wtKYXKHJ409"
      },
      "source": [
        "# Biblioteca OS"
      ]
    },
    {
      "cell_type": "markdown",
      "metadata": {
        "id": "VxR5zpdrLlCX"
      },
      "source": [
        "Para manipular arquivos e navegar entre os diretórios, o Python tem a biblioteca OS, que facilita essa comunicação do seu código com o sistema operacional. Como todas as outras bibliotecas que usaremos, é preciso, antes de mais nada, importar a biblioteca."
      ]
    },
    {
      "cell_type": "code",
      "metadata": {
        "id": "vud18sPnMUQ7"
      },
      "source": [
        "#importando a biblioteca OS (lembrando que tem que ser em letras minúsculas, pois o Python é case sentitive)\n",
        "import os"
      ],
      "execution_count": null,
      "outputs": []
    },
    {
      "cell_type": "markdown",
      "metadata": {
        "id": "IXYBN41VMo24"
      },
      "source": [
        "# getcwd()"
      ]
    },
    {
      "cell_type": "markdown",
      "metadata": {
        "id": "0UZ5v2BOMwHA"
      },
      "source": [
        "Sabe quando a gente se perde na rua e abre o GPS para nos encontrarmos? Essa é a função deste método. Ele nos diz exatamente em qual diretório estamos. Para isso, devemos chamar a biblioteca e o método:"
      ]
    },
    {
      "cell_type": "code",
      "metadata": {
        "colab": {
          "base_uri": "https://localhost:8080/",
          "height": 36
        },
        "id": "ABZXOoSNNA3z",
        "outputId": "bcd7f00f-36be-48ac-d302-003167729156"
      },
      "source": [
        "#verificando o diretóio atual\n",
        "os.getcwd()"
      ],
      "execution_count": null,
      "outputs": [
        {
          "output_type": "execute_result",
          "data": {
            "application/vnd.google.colaboratory.intrinsic+json": {
              "type": "string"
            },
            "text/plain": [
              "'/content'"
            ]
          },
          "metadata": {},
          "execution_count": 4
        }
      ]
    },
    {
      "cell_type": "markdown",
      "metadata": {
        "id": "3KEj5SsvNsdZ"
      },
      "source": [
        "# chdir()"
      ]
    },
    {
      "cell_type": "markdown",
      "metadata": {
        "id": "WQcZke9wNveZ"
      },
      "source": [
        "É importante também ter autonomia para alterar o diretório, sem que seja necessário digitar o endereço completo da localização do seu arquivo a todo instante. Para isso, utilize o comando chdir, que vem de change directory, ou seja escolher diretório. Ao executar este comando, informando o diretório ao qual deseja ser direcionado, o Pyton te leva diretamente a ele. Para ter certeza que está no local correto, vou pode utilizar o comando mostrado anteriomente para se certifiar que está no diretório correto."
      ]
    },
    {
      "cell_type": "code",
      "metadata": {
        "colab": {
          "base_uri": "https://localhost:8080/",
          "height": 36
        },
        "id": "KtS4NEgIOZxw",
        "outputId": "d7362afc-1445-4b72-fee8-ea8209be8c59"
      },
      "source": [
        "#Alterando o diretório:\n",
        "os.chdir(\"/content/drive/MyDrive\")\n",
        "\n",
        "#conferindo onde estamos:\n",
        "os.getcwd()"
      ],
      "execution_count": null,
      "outputs": [
        {
          "output_type": "execute_result",
          "data": {
            "application/vnd.google.colaboratory.intrinsic+json": {
              "type": "string"
            },
            "text/plain": [
              "'/content/drive/MyDrive'"
            ]
          },
          "metadata": {},
          "execution_count": 5
        }
      ]
    },
    {
      "cell_type": "markdown",
      "metadata": {
        "id": "LMsIs71HPPh-"
      },
      "source": [
        "# listdir()"
      ]
    },
    {
      "cell_type": "markdown",
      "metadata": {
        "id": "hB8oLXJJPR-1"
      },
      "source": [
        "Agora que já sabemos nos localizar (getcwd), escolher nosso ditetório de trabalho (chdir), é importante saber listar os arquivos que estão no diretório, para facilitar na definição de qual utitlizaremos. Para isso, vamos utilizar o método `listdir()`, que nos permite listar os arquivos presentes no diretório:"
      ]
    },
    {
      "cell_type": "code",
      "metadata": {
        "colab": {
          "base_uri": "https://localhost:8080/"
        },
        "id": "17OFvRQVPwow",
        "outputId": "83863bf0-12ee-4f7a-9283-04a09a6755a1"
      },
      "source": [
        "#listar os arquivos do diretório atual:\n",
        "os.listdir()"
      ],
      "execution_count": null,
      "outputs": [
        {
          "output_type": "execute_result",
          "data": {
            "text/plain": [
              "['Cronograma PJTC.gsheet',\n",
              " 'Be OS.gslides',\n",
              " 'Relatório Fevereiro 2014- Filipe Freitas.doc',\n",
              " 'NoSQL.docx',\n",
              " 'Marco Civil.pptx',\n",
              " 'Integer Overflow.gslides',\n",
              " 'SistemaDeDatashow.zip',\n",
              " 'Curriculo',\n",
              " 'Gestão de Qualidade.gdoc',\n",
              " 'Gestão de Qualidade.pdf',\n",
              " 'livro_beta2.pdf',\n",
              " 'CÓPIA CONTROLE  luciano Alex ZÉ  2014.xlsx.gsheet',\n",
              " 'Projeto redes 1',\n",
              " 'Projeto_Final.docx.gdoc',\n",
              " 'Minimundo.gdoc',\n",
              " 'FluxogramaSECOMP.dia',\n",
              " '__SECITEC - insert minicurso (Sidney, Sayonara e Joedson).sql',\n",
              " 'FluxogramaSECOMP.jpeg',\n",
              " 'Projeto - Gerenciamento de Compras - IFBA.docx',\n",
              " 'Secitec 2014',\n",
              " 'Respostas de Alex.txt',\n",
              " 'mapeamento BD noia (16_10).docx.gdoc',\n",
              " 'mapeamento BD noia (16_10).docx.rar',\n",
              " 'Lógico (24 - 10).jpg',\n",
              " 'Projeto - Gerenciamento de Compras - IFBA (Modelo Lógico).docx',\n",
              " '[Saionara] Projeto - Gerenciamento de Compras - IFBA (Sugestão Conceitual Pablo).jpg',\n",
              " '[Saionara] Projeto - Gerenciamento de Compras - IFBA (Sugestão Conceitual Pablo).brM',\n",
              " '[Saionara] Projeto - Gerenciamento de Compras - IFBA.rar',\n",
              " 'Processo Controlar os custos.pdf',\n",
              " '[Saionara] Projeto - Gerenciamento de Compras - IFBA (Modelo Lógico) - 2 (Corrigido por Pablo).docx',\n",
              " 'lógico (01 - 11).jpg',\n",
              " 'LOGICO_(01-11).brM',\n",
              " 'WP_20141027_007.mp4',\n",
              " 'Conceitual(04-11).brM',\n",
              " 'processos de planejamento de tempo.docx',\n",
              " 'Projeto - Gerenciamento de Compras - IFBA (Modelo Lógico v. 2.0).docx',\n",
              " 'LOGICO(12-11).brM',\n",
              " 'Trabalho Redes.gdoc',\n",
              " 'Gestão de Projetos - Primavera.gslides',\n",
              " 'backup-IFBA1.sql',\n",
              " 'Respostas de Alex (II).txt',\n",
              " 'FluxogramaSECOMP.dia~~',\n",
              " 'FluxogramaSECOMP_Atualizado (26-11).jpeg',\n",
              " '(SAIONARA) Resumo, Esquema físico e Conclusão - 07 - 12.docx',\n",
              " '(SAIONARA) Resumo, Esquema físico, Conclusão e Apêndices - 07 - 12.docx',\n",
              " 'BD Projeto.rar',\n",
              " 'Anexo 01 - Esquema Conceitual.jpg',\n",
              " 'Versão final + regra de negócio.docx',\n",
              " 'backlog background.gsheet',\n",
              " 'Sprint 4.gslides',\n",
              " 'Versão final + regra de negócio + quadro de tarefas atualizado.docx',\n",
              " 'Versão final + regra de negócio + quadro de tarefas atualizado + NovosItens.docx',\n",
              " 'Versão final + regra de negócio + quadro de tarefas atualizado + NovosItens - FINAAL CABÔ (FALTA XANDY REVISAR).docx',\n",
              " 'Sprint 4 .gslides',\n",
              " 'Sprint_4_SRUS_Feedback.pdf',\n",
              " 'Versão Pós-Final + correções de formatação (falta inserir citações) - Revisado 03-04-15.docx',\n",
              " 'Sprint_5_SRUS_Feedback.pdf',\n",
              " 'Anexos-Edital-No-01-PRPGI-PIBIC-IFBA-FAPESB-2015_saionara.gdoc',\n",
              " '2015, Template Projeto-saionara (1).gdoc',\n",
              " '2015, Template Projeto-saionara.gdoc',\n",
              " 'teste exploratório Sirius2.gdoc',\n",
              " 'Apresentação Mineração de Dados.gslides',\n",
              " 'Sprint 5.gslides',\n",
              " 'Sprint 7.gslides',\n",
              " 'Artigo Mobile.gdoc',\n",
              " 'Roteiro para apresentação de Cretchas.gdoc',\n",
              " 'Certificados',\n",
              " 'Projeto AMS I - Catia Oliveira e Saionara Araújo (1).docx.doc',\n",
              " 'Tv digital.pptx.gslides',\n",
              " 'IFBA-Modelo de Relatorio de Avaliacao-v1.0.doc',\n",
              " 'Projeto AMS I - Catia Oliveira e Saionara Araújo.docx.doc',\n",
              " 'IFBA-BSI-Requisitos-v1.0 (1).doc.gdoc',\n",
              " 'StokNet - Mockups.ep',\n",
              " 'IFBA-BSI-Requisitos-v1.0.doc.gdoc',\n",
              " 'prova CA 3a 2014.2.pdf',\n",
              " 'prova CA 2a 2014.2 Saionara da Silva Araújo.pdf',\n",
              " 'Anteprojeto_Maiane_Salomao_1.0.docx',\n",
              " '__Anexo I - Ficha de inscrição.docx',\n",
              " '2016, Projeto e-Sinais (Saioanara).gdoc',\n",
              " '2016, Projeto e-Sinais (somente Saionara) - 1 (OBS Pablo).gdoc',\n",
              " '__Anexo I - Ficha de inscrição.gdoc',\n",
              " '__Anexo I - Ficha de inscrição.docx.gdoc',\n",
              " '089.pdf',\n",
              " 'TCC',\n",
              " 'Mineração de Dados - Trabalho',\n",
              " 'Saionara - Pré-projeto 1 (Correções Saionara).gdoc',\n",
              " 'Apresentação 1 - AMS 2.gslides',\n",
              " 'SANDRA_ANDRADE_SANTOS.pdf',\n",
              " 'CSBC2016-SilvaEtAl-1.gslides',\n",
              " 'IoT',\n",
              " 'Artigo_Mineração_2016.doc',\n",
              " 'Barema.pdf',\n",
              " 'Artigo connepi',\n",
              " 'Artigo Connepi Mineração de Dados',\n",
              " 'Cópia de Nathaniel.gslides',\n",
              " 'Cópia de Snug.gslides',\n",
              " 'Apresentação DA.gslides',\n",
              " 'e-Sinais - Final (outubro).rar',\n",
              " 'POSTER_CONNEPI2016.pptx',\n",
              " 'CONNEPI2016-LacerdaEtAl-Mineração-6.docx',\n",
              " 'CONNEPI2016-LacerdaEtAl-Mineração-6.docx.gdoc',\n",
              " 'POSTER_CONNEPI2016.pptx.gslides',\n",
              " 'e-Sinais.rar',\n",
              " 'Apresentação final Programas Universais.gslides',\n",
              " 'resumo artigo sbie 2017.docx',\n",
              " 'Documentos',\n",
              " '2017-04-24- Tecnologia Assistiva e Software Educacional (Jornada Pedagógica 2017).gslides',\n",
              " 'resumoArtigoSBIE2017.docx.gdoc',\n",
              " 'resumoArtigoSBIE2017 - 6 (Pablo).docx',\n",
              " 'resumoArtigoSBIE2017 - 6 (Pablo).docx.gdoc',\n",
              " 'Projeto e-Sinais',\n",
              " 'backup.zip',\n",
              " 'Cópia de Hecate.gslides',\n",
              " 'Aéreo - Pedido Allexandre.gdoc',\n",
              " 'Aéreo - Orçamentos e comprovantes.gdoc',\n",
              " 'Relatório de atividades desenvolvidas.gdoc',\n",
              " 'WSouza',\n",
              " 'Monografia_TCC2 - v14 - Versão com sugestões da banca  (Saionara).docx',\n",
              " 'DadosIntegrantesProjeto.gsheet',\n",
              " 'Material Estudo de Caso e-Sinais',\n",
              " 'Documentação SisFarma.docx.gdoc',\n",
              " 'WIE',\n",
              " 'Relatorio_Parcial_CEP_Novel.doc',\n",
              " 'Relatorio_Parcial_CEP_Novel.doc.gdoc',\n",
              " 'Modelo Capa  Monografia CDs Atual.gdoc',\n",
              " 'Capa para CD - Kauanna.gdoc',\n",
              " 'Capa para CD.gdoc',\n",
              " 'Artigo_Mineração_2016.doc.gdoc',\n",
              " 'Avaliação do SIPF.docx',\n",
              " 'Mobile.gslides',\n",
              " '~$cumentação SIPF Sistemas Integrados Paulo Freire.docx',\n",
              " '~WRL0344.tmp',\n",
              " '~WRL2967.tmp',\n",
              " 'Documentação SIPF Sistemas Integrados Paulo Freire.docx',\n",
              " 'BAREMA - Saionara.xlsx',\n",
              " 'Projeto do mestrado',\n",
              " 'Relatório_Final_PJTC (Saionara).gdoc',\n",
              " 'Projeto de Pesquisa_Mestrado - v2 (Saionara) (4).gdoc',\n",
              " 'DOC-20171115-WA0001 (3).gdoc',\n",
              " 'Projeto de Pesquisa_Mestrado - v2 (Saionara) (3).gdoc',\n",
              " 'DOC-20171115-WA0001 (2).gdoc',\n",
              " 'Projeto de Pesquisa_Mestrado - v2 (Saionara) (2).gdoc',\n",
              " 'DOC-20171115-WA0001 (1).gdoc',\n",
              " 'Projeto de Pesquisa_Mestrado - v2 (Saionara) (1).gdoc',\n",
              " 'DOC-20171115-WA0001.gdoc',\n",
              " 'Projeto de Pesquisa_Mestrado - v2 (Pablo).gdoc',\n",
              " 'Projeto de Pesquisa_Mestrado - v2 (Saionara).gdoc',\n",
              " 'Diego.docx',\n",
              " 'CURRICULO_SAIONARA.pdf',\n",
              " 'É esse.docx',\n",
              " 'Documento sem título.gdoc',\n",
              " 'Planilha sem título (1).gsheet',\n",
              " 'Mapemaneto de usuários das pastas no x público.gdoc',\n",
              " 'Planilha sem título.gsheet',\n",
              " 'Projeto de Pesquisa_TCC - v8 (Pablo) - Versão final TCC-I.pdf',\n",
              " 'VID_20190212_205125417.mp4',\n",
              " 'Formulário sem título (1).gform',\n",
              " 'Formulário sem título.gform',\n",
              " 'IFBA-TCC',\n",
              " 'downloadfile-9.bin',\n",
              " 'apostila amigurumi.pdf',\n",
              " 'NANINHA VARIOS MODELOS.pdf',\n",
              " 'Urso - familia.pdf · versão 1.pdf',\n",
              " '50 CHAVEIROS.pdf · versão 1.pdf',\n",
              " 'O Pequeno Príncipe Traduzido.pdf',\n",
              " 'ATIVIDADES - TI',\n",
              " 'Atividade_Diego.gdoc',\n",
              " 'aula01',\n",
              " 'Untitled',\n",
              " 'aula02.ipynb',\n",
              " 'aula03',\n",
              " 'aula03.ipynb',\n",
              " 'recibo_13062020185732.png',\n",
              " 'Vídeos - Repetição e Importação de resultados',\n",
              " 'Colab Notebooks',\n",
              " 'Foto de Saionara.gdoc']"
            ]
          },
          "metadata": {},
          "execution_count": 18
        }
      ]
    },
    {
      "cell_type": "markdown",
      "metadata": {
        "id": "jDPNwN9KQOhU"
      },
      "source": [
        "# open() / close()"
      ]
    },
    {
      "cell_type": "markdown",
      "metadata": {
        "id": "f2aB7IenQQws"
      },
      "source": [
        "Para manipular os arquivos, a biblioteca possui os métodos `open()` e `close()`. Como os nomes sugerem, eles servem, respectivamente para abrir e fechar um arquivo. E aqui vale ressaltar que SEMPRE que abrimos um arquivo, após realizar as manipulações necessárias, é PRECISO fechar. Enquanto o arquivo estiver \"aberto\" em nosso código, estamos consumindo a memória RAM da máquina, além de não permitir que outras pessoas acessem este arquivo. O consumo de memória não seria um grande problema para arquivos pequenos, mas pense em arquivos grandes, com milhares de linhas? E a situação chata de alguém precisar utilizar o arquivo e ele estar \"ocupado\" sem necessidade? Então lembre-se (e leve para a vida): Abriu? Usou? Fechou!"
      ]
    },
    {
      "cell_type": "markdown",
      "metadata": {
        "id": "Y1_rZM4INKJ0"
      },
      "source": [
        "Para começar, vamos criar um arquivo para utilizarmos, e \"guardá-lo\" numa variável."
      ]
    },
    {
      "cell_type": "code",
      "metadata": {
        "id": "YYGtrl_1Nckh"
      },
      "source": [
        "#criando o arquivo:\n",
        "arquivo = \"arquivo.txt\""
      ],
      "execution_count": null,
      "outputs": []
    },
    {
      "cell_type": "markdown",
      "metadata": {
        "id": "9ubSl-zyOCtS"
      },
      "source": [
        "Existem modos para abrir m arquivo, o que depende da sua intenção. Para abrir é preciso executar o seguinte código: `file = open (nome_do_arquivo, 'modo de abertura'`, onde o modo pode ser uma dos seguintes: \n",
        "\n",
        "* 'r' - abre o arquivo para leitura;\n",
        "* 'w' - as alterações realizadas serão salvas sobrescrevendo o que poderia conter no arquivo;\n",
        "* 'x' - neste caso, o arquivo é criado. Caso o arquivo exista previamente, o comando exibirá uma mensagem de erro;\n",
        "* 'a' - ao abrir o arquivo deste modo, as alterações realizadas serão gravadas no fim do arquivo, funcionando como um \"modo anexo\" Caso o arquivo não exista, ele será criado;\n",
        "* 'b' - define que o arquivo a ser aberto será do tipo binário, sendo arquivos que não são de texto, por exemplo imagens, áudios e vídeos;\n",
        "* 't' - ao contrário do parametro anterior, neste caso espera-se que o arquivo seja de texto, o que é o padrão;\n",
        "* '+' - o arquivo será aberto para leitura e escrita e atualizado conforme nova edição."
      ]
    },
    {
      "cell_type": "code",
      "metadata": {
        "id": "K21p06PsNrlq"
      },
      "source": [
        "#abrindo o arquivo:\n",
        "file = open (arquivo,'w')\n",
        "#escrevendo algo no arquivo\n",
        "file.write ('Escrevendo no arquivo..')\n",
        "#fechando o arquivo\n",
        "file.close()"
      ],
      "execution_count": null,
      "outputs": []
    },
    {
      "cell_type": "markdown",
      "metadata": {
        "id": "fkXXaGIhWZMV"
      },
      "source": [
        "Para imprimir o que há no arquivo, podemos utilizar  a seguinte forma:"
      ]
    },
    {
      "cell_type": "code",
      "metadata": {
        "colab": {
          "base_uri": "https://localhost:8080/"
        },
        "id": "HoNTd9hKWht_",
        "outputId": "f7e61d92-4352-4502-9009-bcd1552ef65f"
      },
      "source": [
        "#abrindo o arquivo:\n",
        "file = open (arquivo,'r')\n",
        "#imprimindo o que há no arquivo\n",
        "print (file.read ())\n",
        "#fechando o arquivo\n",
        "file.close()"
      ],
      "execution_count": null,
      "outputs": [
        {
          "output_type": "stream",
          "name": "stdout",
          "text": [
            "Escrevendo no arquivo..\n",
            "dmsaldmksamdklams\n"
          ]
        }
      ]
    },
    {
      "cell_type": "markdown",
      "metadata": {
        "id": "LBKC5hOUWw2E"
      },
      "source": [
        "Há outras maneiras de acessar e manupular um arquivo em Python. Outro modo é utilizar a função `with`, que um tipo de função de **lambda**, que será explicada em um outro momento mais profundamente. Por hora, o que precisamos saber é que neste de função, em apenas uma linha podemos definir metódo, objeto e função. Observe o exemplo para manipular um arquivo:"
      ]
    },
    {
      "cell_type": "code",
      "metadata": {
        "id": "_qw1A3nfXVY-"
      },
      "source": [
        "#escrevendo e criando o arquivo:\n",
        "with open (\"teste.txt\",\"w\") as txt:\n",
        "  txt.write(\"teste\")"
      ],
      "execution_count": null,
      "outputs": []
    },
    {
      "cell_type": "markdown",
      "metadata": {
        "id": "aswfqlc7Yys_"
      },
      "source": [
        "Como vimos, ao utilizar este modo é preciso seguir a sintaxe descrita que se resume em dizer: \n",
        "`com` o arquivo aberto com a função \"x\", faça determinada tarefa: \n",
        "  tarefa\n",
        "Para verificar a alteração, vamos ver o que está escrito no arquivo:"
      ]
    },
    {
      "cell_type": "code",
      "metadata": {
        "colab": {
          "base_uri": "https://localhost:8080/"
        },
        "id": "O8rSj6WTaadP",
        "outputId": "3a3b21bb-f803-4bde-90a5-ca56cab1271c"
      },
      "source": [
        "#lendo o arquivo:\n",
        "with open(\"teste.txt\",'r') as txt:\n",
        "  print (txt.read())"
      ],
      "execution_count": null,
      "outputs": [
        {
          "output_type": "stream",
          "name": "stdout",
          "text": [
            "teste\n"
          ]
        }
      ]
    },
    {
      "cell_type": "markdown",
      "metadata": {
        "id": "8jv_on9ybJIx"
      },
      "source": [
        "Além de manipular o arquivo para escrever, ler, atualizar ou apagar informações, podemos tamb renomear o arquivo, mover de diretório, dentre outras funções que não afetam as informações contidas internamente. Vamos analisar algumas."
      ]
    },
    {
      "cell_type": "markdown",
      "metadata": {
        "id": "L95o4u9nbg-3"
      },
      "source": [
        "# rename()"
      ]
    },
    {
      "cell_type": "markdown",
      "metadata": {
        "id": "9aVB2mxjbnVn"
      },
      "source": [
        "Para renomear o arquivo, existe o método `rename()`. A sintaxe para utilizar o método é a seguinte: biblioteca.rename(\"nome_atual\",\"novo_nome\"). Vejamos a seguir um exemplo."
      ]
    },
    {
      "cell_type": "code",
      "metadata": {
        "colab": {
          "base_uri": "https://localhost:8080/",
          "height": 191
        },
        "id": "gFC6919hcGQ_",
        "outputId": "21c3a9df-d2ad-4607-8a0b-92628d2f4671"
      },
      "source": [
        "#renomeando um arquivo:\n",
        "os.rename(\"teste.txt\",\"teste_altera_nome.txt\")"
      ],
      "execution_count": null,
      "outputs": [
        {
          "output_type": "error",
          "ename": "FileNotFoundError",
          "evalue": "ignored",
          "traceback": [
            "\u001b[0;31m---------------------------------------------------------------------------\u001b[0m",
            "\u001b[0;31mFileNotFoundError\u001b[0m                         Traceback (most recent call last)",
            "\u001b[0;32m<ipython-input-14-a4220f47edc8>\u001b[0m in \u001b[0;36m<module>\u001b[0;34m()\u001b[0m\n\u001b[1;32m      1\u001b[0m \u001b[0;31m#renomeando um arquivo:\u001b[0m\u001b[0;34m\u001b[0m\u001b[0;34m\u001b[0m\u001b[0;34m\u001b[0m\u001b[0m\n\u001b[0;32m----> 2\u001b[0;31m \u001b[0mos\u001b[0m\u001b[0;34m.\u001b[0m\u001b[0mrename\u001b[0m\u001b[0;34m(\u001b[0m\u001b[0;34m\"teste.txt\"\u001b[0m\u001b[0;34m,\u001b[0m\u001b[0;34m\"teste_altera_nome.txt\"\u001b[0m\u001b[0;34m)\u001b[0m\u001b[0;34m\u001b[0m\u001b[0;34m\u001b[0m\u001b[0m\n\u001b[0m",
            "\u001b[0;31mFileNotFoundError\u001b[0m: [Errno 2] No such file or directory: 'teste.txt' -> 'teste_altera_nome.txt'"
          ]
        }
      ]
    },
    {
      "cell_type": "markdown",
      "metadata": {
        "id": "cgIUw7vcBnSw"
      },
      "source": [
        "# **Manipulando arquivos PDF**"
      ]
    },
    {
      "cell_type": "markdown",
      "metadata": {
        "id": "fByYpIg1Btea"
      },
      "source": [
        "A biblioteca sugerida foi a **pdfplumber**, inidicada para manipulação de arquivos PDF, porém não nativa no Colab. Para estes casos, é preciso instalar a biblioteca, antes de qualquer coisa. Para isso utilizamos o comando `!pip install nome_biblioteca`.\n",
        "\n",
        "*Nos notebooks do Colab, toda vez que o deixamos inativo ou fechamos, ao acessar novamente é preciso refazer todos os processos de instalações e importação de biblioteca.*"
      ]
    },
    {
      "cell_type": "code",
      "metadata": {
        "colab": {
          "base_uri": "https://localhost:8080/"
        },
        "id": "u5GO8IZoCI5j",
        "outputId": "51708039-5f42-4b23-daf2-974aa198c73c"
      },
      "source": [
        "#instalando a biblioteca PDFPLUMBER\n",
        "!pip install pdfplumber"
      ],
      "execution_count": null,
      "outputs": [
        {
          "output_type": "stream",
          "name": "stdout",
          "text": [
            "Collecting pdfplumber\n",
            "  Downloading pdfplumber-0.5.28.tar.gz (45 kB)\n",
            "\u001b[K     |████████████████████████████████| 45 kB 2.0 MB/s \n",
            "\u001b[?25hCollecting pdfminer.six==20200517\n",
            "  Downloading pdfminer.six-20200517-py3-none-any.whl (5.6 MB)\n",
            "\u001b[K     |████████████████████████████████| 5.6 MB 10.4 MB/s \n",
            "\u001b[?25hRequirement already satisfied: Pillow>=7.0.0 in /usr/local/lib/python3.7/dist-packages (from pdfplumber) (7.1.2)\n",
            "Collecting Wand\n",
            "  Downloading Wand-0.6.7-py2.py3-none-any.whl (139 kB)\n",
            "\u001b[K     |████████████████████████████████| 139 kB 65.6 MB/s \n",
            "\u001b[?25hRequirement already satisfied: chardet in /usr/local/lib/python3.7/dist-packages (from pdfminer.six==20200517->pdfplumber) (3.0.4)\n",
            "Requirement already satisfied: sortedcontainers in /usr/local/lib/python3.7/dist-packages (from pdfminer.six==20200517->pdfplumber) (2.4.0)\n",
            "Collecting pycryptodome\n",
            "  Downloading pycryptodome-3.12.0-cp35-abi3-manylinux2010_x86_64.whl (2.0 MB)\n",
            "\u001b[K     |████████████████████████████████| 2.0 MB 47.0 MB/s \n",
            "\u001b[?25hBuilding wheels for collected packages: pdfplumber\n",
            "  Building wheel for pdfplumber (setup.py) ... \u001b[?25l\u001b[?25hdone\n",
            "  Created wheel for pdfplumber: filename=pdfplumber-0.5.28-py3-none-any.whl size=32240 sha256=34d437e8981ca48143aff422a6cc2a44fb204e6f0632eaec19638bd43d731be4\n",
            "  Stored in directory: /root/.cache/pip/wheels/f2/b1/a0/c0a77b756d580f53b3806ae0e0b3ec945a8d05fca1d6e10cc1\n",
            "Successfully built pdfplumber\n",
            "Installing collected packages: pycryptodome, Wand, pdfminer.six, pdfplumber\n",
            "Successfully installed Wand-0.6.7 pdfminer.six-20200517 pdfplumber-0.5.28 pycryptodome-3.12.0\n"
          ]
        }
      ]
    },
    {
      "cell_type": "markdown",
      "metadata": {
        "id": "n16_lygACpqs"
      },
      "source": [
        "Após a instalação, basta importar, como já aprendemos, e utilizar. Neste notebook vamos utilizar as bibliotecas **pdfplumber**,**os** e a **drive**, sendo que as duas ultimas já foram declaradas anteriormente, neste mesmo arquivo, por isso não precisarão ser importadas. Vamos por tanto, importar apenas a `pdfplumber`"
      ]
    },
    {
      "cell_type": "code",
      "metadata": {
        "id": "4WlMqULXDN2a"
      },
      "source": [
        "#importando a biblioteca para manipulação de PDF:\n",
        "import pdfplumber"
      ],
      "execution_count": null,
      "outputs": []
    },
    {
      "cell_type": "markdown",
      "metadata": {
        "id": "L4BXbZRfElwo"
      },
      "source": [
        "# pdfplumber.open()"
      ]
    },
    {
      "cell_type": "markdown",
      "metadata": {
        "id": "ajqJ42L5ErzT"
      },
      "source": [
        "Para abrir o arquivo o comando é `pdfplumber.open(x)`, sendo x o arquivo que iremos explorar. Segundo a documentação oficial, o x pode ser:\n",
        "\n",
        "*   o caminho do arquivo;\n",
        "*   um objeto do tipo arquivo;\n",
        "* um ojeto semelhante a um arquivo.\n",
        "\n",
        "Vamos carregar um arquivo, passando como argumento da função open, o caminho deste.\n",
        "\n"
      ]
    },
    {
      "cell_type": "code",
      "metadata": {
        "id": "ghtgJHkLGYQ7"
      },
      "source": [
        "#abrindo um arquivo e guardando em uma variável:\n",
        "pdf = pdfplumber.open('/content/drive/MyDrive/089.pdf')"
      ],
      "execution_count": null,
      "outputs": []
    },
    {
      "cell_type": "markdown",
      "metadata": {
        "id": "S-NlogmsGuGb"
      },
      "source": [
        "Agora estamos com os dados do arquivo na memória do computador e podemos fazer as manipulações necessárias."
      ]
    },
    {
      "cell_type": "markdown",
      "metadata": {
        "id": "G6qLBiJJG3Nw"
      },
      "source": [
        "# pages"
      ]
    },
    {
      "cell_type": "markdown",
      "metadata": {
        "id": "dir-sze5G5TD"
      },
      "source": [
        "A função pages, nos retorna a quantidade de páginas que o compõe o documento. Se apenas declaramos, como está no título desta seção, itemos saber quantas páginas temos no arquivo. Contudo, para acessar uma das páginas, precisamos passar o índice da página como argumento na função."
      ]
    },
    {
      "cell_type": "code",
      "metadata": {
        "colab": {
          "base_uri": "https://localhost:8080/"
        },
        "id": "KgjjMkrwHu8h",
        "outputId": "184ed1f5-712f-4028-c873-3ce26f2a9846"
      },
      "source": [
        "#descobindo quantas páginas o arquivo possui\n",
        "pdf.pages"
      ],
      "execution_count": null,
      "outputs": [
        {
          "output_type": "execute_result",
          "data": {
            "text/plain": [
              "[<Page:1>,\n",
              " <Page:2>,\n",
              " <Page:3>,\n",
              " <Page:4>,\n",
              " <Page:5>,\n",
              " <Page:6>,\n",
              " <Page:7>,\n",
              " <Page:8>]"
            ]
          },
          "metadata": {},
          "execution_count": 7
        }
      ]
    },
    {
      "cell_type": "code",
      "metadata": {
        "colab": {
          "base_uri": "https://localhost:8080/"
        },
        "id": "2QnBF1jAH2S2",
        "outputId": "fe93d1ce-fdf2-41f7-d36a-57e9e23fb0f5"
      },
      "source": [
        "#acessando uma das página:\n",
        "pdf.pages[1]"
      ],
      "execution_count": null,
      "outputs": [
        {
          "output_type": "execute_result",
          "data": {
            "text/plain": [
              "<Page:2>"
            ]
          },
          "metadata": {},
          "execution_count": 8
        }
      ]
    },
    {
      "cell_type": "markdown",
      "metadata": {
        "id": "0L8GjJfsJJsR"
      },
      "source": [
        "# metadata()"
      ]
    },
    {
      "cell_type": "markdown",
      "metadata": {
        "id": "q8_YrdctGMp9"
      },
      "source": [
        "Ainda é possível visualizar os \"Metadados (???)\" do arquivo. Metadados são os \"dados sobre os dados\". Por exemplo: em uma coluna, numa tabela, que contenha os nomes de clientes e que se chama \"Nome_Cliente\", esta informação é um metadado, pois é um dado que explica os dados que estamos manipulando. Assim, em arquivos PDF podemos ter como metadados, o autor do arquivo, o local onde foi criado ou publiado, dentre outros. Para acessar estas informações, basta utilizar o comando: `arquivo_pdf.metadata`."
      ]
    },
    {
      "cell_type": "code",
      "metadata": {
        "colab": {
          "base_uri": "https://localhost:8080/"
        },
        "id": "97hS7LZpIGap",
        "outputId": "46660d09-a800-4524-a2c3-91f0ca9dbae6"
      },
      "source": [
        "#acessando os metadados do arquivo\n",
        "pdf.metadata"
      ],
      "execution_count": null,
      "outputs": [
        {
          "output_type": "execute_result",
          "data": {
            "text/plain": [
              "{'CreationDate': \"D:20150630143411-03'00'\",\n",
              " 'Creator': 'pdftk 2.01 - www.pdftk.com',\n",
              " 'ModDate': \"D:20150630143411-03'00'\",\n",
              " 'Producer': 'itext-paulo-155 (itextpdf.sf.net-lowagie.com)'}"
            ]
          },
          "metadata": {},
          "execution_count": 13
        }
      ]
    },
    {
      "cell_type": "markdown",
      "metadata": {
        "id": "anPrskcUNr6R"
      },
      "source": [
        "Para acessar qualquer informação do arquivo, que não sejam os metadados, precisamos definir em qual página está a informação e acessar a página. As funções desta biblioteca funcionam em níve de página, ou seja, preciso apontar para a página que contenha a informação que que quero acessar, ainda que o arquivo só tenha uma página."
      ]
    },
    {
      "cell_type": "code",
      "metadata": {
        "id": "ydYyg98-OJYU"
      },
      "source": [
        "#definindo a página que acessaremos:\n",
        "pagina = pdf.pages[1]\n",
        "#neste caso, estamos acessando a página 2 do arquivo"
      ],
      "execution_count": null,
      "outputs": []
    },
    {
      "cell_type": "markdown",
      "metadata": {
        "id": "hunaa_Q_JO-E"
      },
      "source": [
        "# extract_text()"
      ]
    },
    {
      "cell_type": "markdown",
      "metadata": {
        "id": "oFE9wVXaJSnp"
      },
      "source": [
        "Mas ao acessarmos arquivo PDF, estamos interessados nas informações que estão no arquivo, como por exemplo o texto que lá está escrito, imagens, tabelas, dentre outros. Vamos começar aqui extraindo texto de uma página. Para isso, devemos utilizar o comando da seguinte forma: `pagina_arquivo_pdf.extract_text()`. Segundo a documentação oficial desta biblioteca, este método agrupa todo o texto numa única String (um conjunto de caracteres). Há argumentos que podem ser definidos para esta função, que definem o espaçamento entre os caracteres para que sejam inseridos espaços em branco ou quebra de linha.\n",
        "\n",
        "Mas por hora, não utilizaremos já que o nosos foco é conhecer basicamente a ferramenta. Mas nada te impede de acessar a documentação e explorar todas as informações que lá estão publicadas ;)\n"
      ]
    },
    {
      "cell_type": "code",
      "metadata": {
        "colab": {
          "base_uri": "https://localhost:8080/"
        },
        "id": "QA-b18FiMgZS",
        "outputId": "472460ee-b0b7-4c76-e34c-4581d4bf6249"
      },
      "source": [
        "#extraindo o texto: vamos guardar a String resultante da extração de uma página em uma variável\n",
        "texto_pagina = pagina.extract_text()\n",
        "\n",
        "#imprimindo o que tem na pagina:\n",
        "print (texto_pagina)"
      ],
      "execution_count": null,
      "outputs": [
        {
          "output_type": "stream",
          "name": "stdout",
          "text": [
            "XI Brazilian Symposium on Information System, Goiˆania, GO, May 26-29, 2015.\n",
            "transacionais da organização, gerar informações gerenciais que  apresentados os conceitos necessários para o entendimento deste \n",
            "facilitam o referido processo.  trabalho. Na seção 4, encontra-se a definição e o planejamento do \n",
            "Como grande parte dos dados manipulados pelas organizações  estudo de caso. A seção 5 apresenta a operação do estudo de caso. \n",
            "está em formato textual, torna-se fundamental o uso da técnica de  A seção 6 contém os resultados do estudo de caso. Na seção 7, \n",
            "Mineração  de  Texto  (também  conhecido  por  Knowledge  são apresentados os trabalhos relacionados. Por fim, na seção 8, a \n",
            "Discovery in Texts, KDT, em inglês) para identificar padrões e  conclusão e trabalhos futuros. \n",
            "conhecimentos para auxiliar nas decisões. \n",
            "2.  FERRAMENTA ACCOUNTMINER \n",
            "KDT é o processo de extração de informações, úteis e não-\n",
            "triviais, e conhecimento em texto desestruturado [21]. O processo  Nesta  seção,  são  apresentados  os  principais  módulos  da \n",
            "de  Mineração  de  Texto  é  dividido  em  quatro  etapas  bem  ferramenta AccountMiner. \n",
            "definidas: Seleção, Pré-processamento, Mineração e Assimilação \n",
            "2.1  Gerenciamento de Dicionários \n",
            "[11]. \n",
            "Na Seleção, os documentos relevantes devem ser definidos  Dicionários são os modelos de conhecimentos que servem de base \n",
            "para serem processados. No Pré-processamento, os documentos  para  tornar  possível  a  descoberta  de  evidências  de  fraudes \n",
            "selecionados  sofrerão  um  tratamento  especial,  para  que  seja  semelhantes em toda base de dados ou em unidades e cidades \n",
            "definida uma estrutura, a qual será utilizada na próxima etapa,  específicas. \n",
            "Mineração.  Nesta,  serão  utilizadas  técnicas  para  detectar  os  Um dicionário é criado por meio da seleção de amostras, as \n",
            "padrões não visíveis nos dados. Por fim, na Assimilação, os  quais  são  dados selecionados pelo  auditor como “Evidência” \n",
            "usuários irão utilizar o conhecimento gerado para apoiar as suas  (possível  evidência  de  irregularidade)  e  “Em  Conformidade” \n",
            "decisões [3, 11, 18].  (descrição que está de acordo com a lei), bem como o auditor \n",
            "O conhecimento gerado pode ser avaliado para determinar se  pode  informar  amostras  avulsas,  as  quais  são  especificadas \n",
            "o mesmo é relevante ou não para o usuário [24], ou seja, avaliar o  manualmente  e  classificadas  como  “Evidência”  ou  “Em \n",
            "desempenho  do  processo  de  mineração  para  a  geração  do  Conformidade”, como é mostrado na Figura 1. \n",
            "conhecimento. Neste contexto, existem várias métricas, sendo as   \n",
            "principais relacionadas ao desempenho, à acurácia, à precisão e à \n",
            "cobertura. \n",
            "De  forma  análoga,  os  órgãos  governamentais  geram  um \n",
            "imenso  volume  de  dados  provenientes  dos  sistemas  de \n",
            "informações  utilizados  para  apoiar  suas  atividades  rotineiras. \n",
            "Esses  dados  são  utilizados  pelos  órgãos  de  auditoria \n",
            "governamental  para  planejamento  e  execução  de  auditorias  e \n",
            "fiscalizações  dos  recursos  públicos.  Analisá-los  em  busca  de \n",
            "irregularidades sem o uso de mecanismos de análise de dados e \n",
            "extração de conhecimento é uma tarefa árdua para esses órgãos \n",
            "fiscalizadores. \n",
            "Em um levantamento realizado em 2007, constatou-se que 27 \n",
            "dos Tribunais de Contas existentes no Brasil, apenas um utilizava \n",
            " \n",
            "técnicas de extração de conhecimento em grandes massas de \n",
            "Figura 1. Tela Dicionário (Ferramenta AccountMiner) \n",
            "dados [17]. Fica clara a necessidade de uma maior utilização de \n",
            " \n",
            "mecanismos que tornem efetivas as atividades de auditoria. \n",
            "Diante dessa situação e objetivando atender às necessidades  2.2  Gerenciamento de Classificações \n",
            "do  Tribunal  de  Contas  do  Estado  de  Sergipe  (TCE-SE),  foi \n",
            "Após a definição do dicionário, o auditor poderá escolher os \n",
            "desenvolvida uma aplicação, nomeada AccountMiner, que realiza \n",
            "dados a serem classificados pela aplicação, ou seja, local em que \n",
            "a mineração de texto em qualquer campo descritivo de um sistema \n",
            "serão buscadas novas evidências semelhantes às do dicionário \n",
            "de informação de auditoria. \n",
            "criado. \n",
            "A aplicação permite classificar registros como evidências de \n",
            "Para classificar uma descrição, a ferramenta dispõe de dois \n",
            "irregularidades, ou seja, se uma descrição está ou não de acordo \n",
            "algoritmos  base,  Naïve  Bayes  e  Similaridade,  bem  como \n",
            "com a lei e com o que se espera dos jurisdicionados, nos casos em \n",
            "parametrizações para o algoritmo Bayes, as quais permitem mais 2 \n",
            "que tudo parece correto, mas o histórico evidencia o contrário. A \n",
            "possibilidades de algoritmos, como é visto na Figura 2. \n",
            "ferramenta usa 2 algoritmos base de mineração de texto e tem \n",
            "Os  algoritmos  foram  escolhidos  mediante  pesquisa \n",
            "como  objetivo  tornar  efetivo  o  trabalho  do  auditor,  na \n",
            "bibliográfica sobre o uso dos mesmos em campos descritivos \n",
            "identificação  de  irregularidades.  Um  dos  algoritmos,  após \n",
            "(texto). Naïve Bayes foi escolhido pela existência de evidências \n",
            "parametrização,  para  este  artigo,  será  considerado  como  uma \n",
            "de que esse é a melhor abordagem para classificação de texto [10, \n",
            "terceira opção. \n",
            "19]. \n",
            "Este artigo avalia o desempenho e qualidade dos 3 algoritmos \n",
            "Já  Similaridade,  hipoteticamente,  seria  adequado  para  o \n",
            "da ferramenta supracitada, na detecção de irregularidades nos \n",
            "contexto  do  TCE-SE,  pelo  fato  ter  um  bom  desempenho \n",
            "pagamentos de diárias, contidos nos históricos de contas públicas \n",
            "proporcional à alta qualidade do conjunto de treinamento [22, \n",
            "custodiadas  pelo  TCE-SE.  Os  resultados  mostraram  que  o \n",
            "23].  No  nosso  caso,  o  fato  de  um  especialista  (auditor) \n",
            "algoritmo Naïve Bayes Multinomial, com Frequência Inversa, foi \n",
            "supervisionar o modelo garante uma boa qualidade. Vale ressaltar \n",
            "a melhor abordagem para detectar irregularidades nos pagamentos \n",
            "que  o  conjunto  de  treinamento  é  composto  por  dados reais, \n",
            "de diárias. \n",
            "selecionados ou informados pelo especialista. \n",
            "O restante do trabalho está estruturado como segue. A seção 2 \n",
            " \n",
            "apresenta  a  ferramenta  AccountMiner.  Na  seção  3,  são \n",
            "660\n"
          ]
        }
      ]
    },
    {
      "cell_type": "markdown",
      "metadata": {
        "id": "_MWnaQjkRktr"
      },
      "source": [
        "# **Aplicação prática**"
      ]
    },
    {
      "cell_type": "markdown",
      "metadata": {
        "id": "wPFWGftLRxt0"
      },
      "source": [
        "Após conhecer, muito basicamente, estas duas bibliotecas, vamos ver uma aplicação prática, sugerida neste módulo do curso. A idéia é automatizar a extração de informações de relatórios diários da empresa, para acompanhar a receita gerada."
      ]
    },
    {
      "cell_type": "markdown",
      "metadata": {
        "id": "DWOtuJPyTy_v"
      },
      "source": [
        "Inicialmente, precisamos instalar a biblioteca para manipulação de arquivos PDF:"
      ]
    },
    {
      "cell_type": "code",
      "metadata": {
        "colab": {
          "base_uri": "https://localhost:8080/"
        },
        "id": "UlfzKNR9VDTZ",
        "outputId": "81208d14-4d24-4f11-8ba0-cd41802b3a3e"
      },
      "source": [
        "#instalando a biblioteca PDFPLUMBER\n",
        "!pip install pdfplumber"
      ],
      "execution_count": 1,
      "outputs": [
        {
          "output_type": "stream",
          "name": "stdout",
          "text": [
            "Collecting pdfplumber\n",
            "  Downloading pdfplumber-0.5.28.tar.gz (45 kB)\n",
            "\u001b[K     |████████████████████████████████| 45 kB 2.6 MB/s \n",
            "\u001b[?25hCollecting pdfminer.six==20200517\n",
            "  Downloading pdfminer.six-20200517-py3-none-any.whl (5.6 MB)\n",
            "\u001b[K     |████████████████████████████████| 5.6 MB 5.9 MB/s \n",
            "\u001b[?25hRequirement already satisfied: Pillow>=7.0.0 in /usr/local/lib/python3.7/dist-packages (from pdfplumber) (7.1.2)\n",
            "Collecting Wand\n",
            "  Downloading Wand-0.6.7-py2.py3-none-any.whl (139 kB)\n",
            "\u001b[K     |████████████████████████████████| 139 kB 54.3 MB/s \n",
            "\u001b[?25hCollecting pycryptodome\n",
            "  Downloading pycryptodome-3.12.0-cp35-abi3-manylinux2010_x86_64.whl (2.0 MB)\n",
            "\u001b[K     |████████████████████████████████| 2.0 MB 55.1 MB/s \n",
            "\u001b[?25hRequirement already satisfied: chardet in /usr/local/lib/python3.7/dist-packages (from pdfminer.six==20200517->pdfplumber) (3.0.4)\n",
            "Requirement already satisfied: sortedcontainers in /usr/local/lib/python3.7/dist-packages (from pdfminer.six==20200517->pdfplumber) (2.4.0)\n",
            "Building wheels for collected packages: pdfplumber\n",
            "  Building wheel for pdfplumber (setup.py) ... \u001b[?25l\u001b[?25hdone\n",
            "  Created wheel for pdfplumber: filename=pdfplumber-0.5.28-py3-none-any.whl size=32240 sha256=b978b6874dcccb86abb8ea452b4caff5c0f6817ed4edac78cea0a22f6ab641f8\n",
            "  Stored in directory: /root/.cache/pip/wheels/f2/b1/a0/c0a77b756d580f53b3806ae0e0b3ec945a8d05fca1d6e10cc1\n",
            "Successfully built pdfplumber\n",
            "Installing collected packages: pycryptodome, Wand, pdfminer.six, pdfplumber\n",
            "Successfully installed Wand-0.6.7 pdfminer.six-20200517 pdfplumber-0.5.28 pycryptodome-3.12.0\n"
          ]
        }
      ]
    },
    {
      "cell_type": "markdown",
      "metadata": {
        "id": "THGSDp5dVNj7"
      },
      "source": [
        "Agora é preciso importar a biblioteca para manipulação de arquivos e diretórios e para manipulação de PDF:"
      ]
    },
    {
      "cell_type": "code",
      "metadata": {
        "id": "qLj4yJNsVV2N"
      },
      "source": [
        "#importando a bilioteca de arquivo:\n",
        "import os\n",
        "\n",
        "#importando a biblioteca para manipular PDF:\n",
        "import pdfplumber"
      ],
      "execution_count": 2,
      "outputs": []
    },
    {
      "cell_type": "markdown",
      "metadata": {
        "id": "ox3fqvbpV_aS"
      },
      "source": [
        "Agora e preciso conectar ao Drive para acessar os arquivos. A seguir, os comandos para conectar e espelhar o driver neste notebook"
      ]
    },
    {
      "cell_type": "code",
      "metadata": {
        "id": "J9KLFZaRWjxK"
      },
      "source": [
        "#conectando com o Drive:\n",
        "from google.colab import drive"
      ],
      "execution_count": 3,
      "outputs": []
    },
    {
      "cell_type": "code",
      "metadata": {
        "colab": {
          "base_uri": "https://localhost:8080/"
        },
        "id": "NTFJSVzTWjxQ",
        "outputId": "8765b5b6-3509-49fd-c471-5f757b4592f6"
      },
      "source": [
        "#montando o drive:\n",
        "drive.mount (\"/content/drive\")"
      ],
      "execution_count": 4,
      "outputs": [
        {
          "output_type": "stream",
          "name": "stdout",
          "text": [
            "Drive already mounted at /content/drive; to attempt to forcibly remount, call drive.mount(\"/content/drive\", force_remount=True).\n"
          ]
        }
      ]
    },
    {
      "cell_type": "markdown",
      "metadata": {
        "id": "b3xKmWn8W6YB"
      },
      "source": [
        "Agora precisamos encontrar a pasta onde estão nossos arquivos. Para isto, vamos usar os comandos da biblioteca OS para listar nossos arquivos e diretórios"
      ]
    },
    {
      "cell_type": "code",
      "metadata": {
        "colab": {
          "base_uri": "https://localhost:8080/"
        },
        "id": "-Soybr5GXMKC",
        "outputId": "b36b5cbd-7d03-4c75-a06f-3a983302d717"
      },
      "source": [
        "#listando os diretórios:\n",
        "os.listdir()"
      ],
      "execution_count": 5,
      "outputs": [
        {
          "output_type": "execute_result",
          "data": {
            "text/plain": [
              "['.config', 'drive', 'sample_data']"
            ]
          },
          "metadata": {},
          "execution_count": 5
        }
      ]
    },
    {
      "cell_type": "markdown",
      "metadata": {
        "id": "h-Q6v5KNYT9S"
      },
      "source": [
        "Após identificar os diretórios, vamos selecionar o diretório que precisamos acessar:"
      ]
    },
    {
      "cell_type": "code",
      "metadata": {
        "colab": {
          "base_uri": "https://localhost:8080/",
          "height": 36
        },
        "id": "qm9xyZRjXYe7",
        "outputId": "6387ca1f-b988-49a8-86af-a05de383cf14"
      },
      "source": [
        "#selecionar o diretório alvo:\n",
        "os.chdir('/content/drive/MyDrive/relatorios')\n",
        "\n",
        "#conferindo onde estamos:\n",
        "os.getcwd()"
      ],
      "execution_count": 6,
      "outputs": [
        {
          "output_type": "execute_result",
          "data": {
            "application/vnd.google.colaboratory.intrinsic+json": {
              "type": "string"
            },
            "text/plain": [
              "'/content/drive/MyDrive/relatorios'"
            ]
          },
          "metadata": {},
          "execution_count": 6
        }
      ]
    },
    {
      "cell_type": "markdown",
      "metadata": {
        "id": "Xt_jAiLPZKAj"
      },
      "source": [
        "Precisamos \"guardar\" os arquivos numa estrutura para que possamos acessá-los para os tratamentos. Vamos guarda numa lista, que é um tipo de estrutura de dados, onde podemos acessar o conteúdo de várias formar, e atravé do índice:"
      ]
    },
    {
      "cell_type": "code",
      "metadata": {
        "colab": {
          "base_uri": "https://localhost:8080/"
        },
        "id": "QSG390ZKYxvx",
        "outputId": "0e6f7973-7575-492e-b94a-7b27c0fb4cb0"
      },
      "source": [
        "#listando os arquivos que estão neste diretório:\n",
        "arquivos = os.listdir()\n",
        "print (arquivos)"
      ],
      "execution_count": 7,
      "outputs": [
        {
          "output_type": "stream",
          "name": "stdout",
          "text": [
            "['20200801.pdf', '20200802.pdf', '20200803.pdf', '20200804.pdf', '20200805.pdf']\n"
          ]
        }
      ]
    },
    {
      "cell_type": "markdown",
      "metadata": {
        "id": "kJ4wZG6NbD49"
      },
      "source": [
        "Agora vamos manipular um relatório:"
      ]
    },
    {
      "cell_type": "code",
      "metadata": {
        "id": "hGguGbeobJNH"
      },
      "source": [
        "relatorio = pdfplumber.open('/content/drive/MyDrive/relatorios/20200801.pdf')"
      ],
      "execution_count": 8,
      "outputs": []
    },
    {
      "cell_type": "markdown",
      "metadata": {
        "id": "cKb0QsxVbsfL"
      },
      "source": [
        "***É importante lembrar: mesmo que o arquivo tenha apenas uma página, precisamos \"informar\" qual a será a página acessada.***"
      ]
    },
    {
      "cell_type": "code",
      "metadata": {
        "colab": {
          "base_uri": "https://localhost:8080/"
        },
        "id": "ojW4TcyHb41g",
        "outputId": "f868b187-1bbb-4d6c-db7e-8796f833a398"
      },
      "source": [
        "#verificando quantas página temos:\n",
        "relatorio.pages\n",
        "\n",
        "#acesso a página:\n",
        "page1 = relatorio.pages[0].extract_text()\n",
        "\n",
        "#imprimindo\n",
        "print(page1)"
      ],
      "execution_count": 9,
      "outputs": [
        {
          "output_type": "stream",
          "name": "stdout",
          "text": [
            "SIGMOIDAL\t\n",
            "\t \t\n",
            "Relatório\tDiário\t\n",
            "Data:\t01/08/2020\t\n",
            "\t\n",
            "\t\n",
            "RECEITA:\tR$\t1297.00\t\n",
            "DADOS\tATUALIZADOS\tPOR\tCARLOS\tMELO\t\n",
            "\t\n",
            "\t\n",
            "Visitantes:\t1367\t\n",
            "A\tquantidade\tde\tvisitantes\tdiz\trespeito\ta\tvisitantes\túnicos\tvisitando\tqualquer\t\n",
            "página\tdo\tdomínio\tou\tsubdomínio\tsigmoidal.ai.\tCompreende,\tentão,\tcursos,\t\n",
            "blogs\te\tlanding\tpages.\t\n",
            "\t\n",
            "Inscritos:\t33\t\n",
            "É\tconsiderado\taqui\to\tnúmero\tde\tleads\tgerados\tpor\tmeio\tde\tcadastro\t\n",
            "voluntário\tnos\tformulários\tdo\tcabeçalho,\trodapé\tou\tmateriais\tricos\t(como\t\n",
            "eBook,\tinfográficos,\tentre\toutros).\t\n",
            "\t\n",
            "Assinantes:\t6\t\n",
            "Clientes\tassinantes\tda\tEscola\tde\tData\tScience,\tconsiderando-se\to\tplano\t\n",
            "renovável\tde\tassinatura\tmensal.\t\n",
            "\t\n"
          ]
        }
      ]
    },
    {
      "cell_type": "markdown",
      "source": [
        "O conteúdo está sendo apresentado exatamente como está construído. Vamos guardar todo esse volume numa `String`, que é um tipo de dado para guardar vários caracteres. Por exemplo, isso que você está lendo forma uma string, pois é composto por vários caractes (inclusie espaços em branco, tabs, enters, TUDOOOO mesmo). Mas para que guardar a informação do arqivo em uma String? Porque assim podemos acessar métodos esecíficos para tratamento e manipulação de strings, o que pode facilitar nossa vida!! :P \n",
        "\n",
        "A variável onde as informações foram guardadas, é uma string. Veja a seguir:"
      ],
      "metadata": {
        "id": "92CqxyWja3rV"
      }
    },
    {
      "cell_type": "code",
      "source": [
        "#Mostrando como a informação da página é lida como uma String:\n",
        "page1"
      ],
      "metadata": {
        "colab": {
          "base_uri": "https://localhost:8080/",
          "height": 109
        },
        "id": "x8OL40DsbrkS",
        "outputId": "a961037d-45fa-426d-8bde-e5ab9f89e814"
      },
      "execution_count": 10,
      "outputs": [
        {
          "output_type": "execute_result",
          "data": {
            "application/vnd.google.colaboratory.intrinsic+json": {
              "type": "string"
            },
            "text/plain": [
              "'SIGMOIDAL\\t\\n\\t \\t\\nRelatório\\tDiário\\t\\nData:\\t01/08/2020\\t\\n\\t\\n\\t\\nRECEITA:\\tR$\\t1297.00\\t\\nDADOS\\tATUALIZADOS\\tPOR\\tCARLOS\\tMELO\\t\\n\\t\\n\\t\\nVisitantes:\\t1367\\t\\nA\\tquantidade\\tde\\tvisitantes\\tdiz\\trespeito\\ta\\tvisitantes\\túnicos\\tvisitando\\tqualquer\\t\\npágina\\tdo\\tdomínio\\tou\\tsubdomínio\\tsigmoidal.ai.\\tCompreende,\\tentão,\\tcursos,\\t\\nblogs\\te\\tlanding\\tpages.\\t\\n\\t\\nInscritos:\\t33\\t\\nÉ\\tconsiderado\\taqui\\to\\tnúmero\\tde\\tleads\\tgerados\\tpor\\tmeio\\tde\\tcadastro\\t\\nvoluntário\\tnos\\tformulários\\tdo\\tcabeçalho,\\trodapé\\tou\\tmateriais\\tricos\\t(como\\t\\neBook,\\tinfográficos,\\tentre\\toutros).\\t\\n\\t\\nAssinantes:\\t6\\t\\nClientes\\tassinantes\\tda\\tEscola\\tde\\tData\\tScience,\\tconsiderando-se\\to\\tplano\\t\\nrenovável\\tde\\tassinatura\\tmensal.\\t\\n\\t'"
            ]
          },
          "metadata": {},
          "execution_count": 10
        }
      ]
    },
    {
      "cell_type": "markdown",
      "source": [
        "Mas como dissemos, as variáveis do tipo String possuem métodos eficientes e obejtivos para o tratamento destes dados. Poderíamos citar vários aqui, mas vamos apenas exemplificar. O ideal é que você leia a documentação da biblioteca, para descobrir mais métodos que possam te ajudar no dia-a-dia."
      ],
      "metadata": {
        "id": "STXOQzT2dK7x"
      }
    },
    {
      "cell_type": "markdown",
      "source": [
        "Vamos utilizar primeiro o método `split`, que significar \"cortar\". Neste método, a string é fatiada conforme parâmetro de corte definido."
      ],
      "metadata": {
        "id": "ZjVGS15KdrX1"
      }
    },
    {
      "cell_type": "code",
      "source": [
        "#fatiando a String:\n",
        "page1.split('\\n')"
      ],
      "metadata": {
        "colab": {
          "base_uri": "https://localhost:8080/"
        },
        "id": "fBPhtRzyeMSq",
        "outputId": "3267cea5-c8c4-4df6-8c27-b0411bc21dfb"
      },
      "execution_count": 11,
      "outputs": [
        {
          "output_type": "execute_result",
          "data": {
            "text/plain": [
              "['SIGMOIDAL\\t',\n",
              " '\\t \\t',\n",
              " 'Relatório\\tDiário\\t',\n",
              " 'Data:\\t01/08/2020\\t',\n",
              " '\\t',\n",
              " '\\t',\n",
              " 'RECEITA:\\tR$\\t1297.00\\t',\n",
              " 'DADOS\\tATUALIZADOS\\tPOR\\tCARLOS\\tMELO\\t',\n",
              " '\\t',\n",
              " '\\t',\n",
              " 'Visitantes:\\t1367\\t',\n",
              " 'A\\tquantidade\\tde\\tvisitantes\\tdiz\\trespeito\\ta\\tvisitantes\\túnicos\\tvisitando\\tqualquer\\t',\n",
              " 'página\\tdo\\tdomínio\\tou\\tsubdomínio\\tsigmoidal.ai.\\tCompreende,\\tentão,\\tcursos,\\t',\n",
              " 'blogs\\te\\tlanding\\tpages.\\t',\n",
              " '\\t',\n",
              " 'Inscritos:\\t33\\t',\n",
              " 'É\\tconsiderado\\taqui\\to\\tnúmero\\tde\\tleads\\tgerados\\tpor\\tmeio\\tde\\tcadastro\\t',\n",
              " 'voluntário\\tnos\\tformulários\\tdo\\tcabeçalho,\\trodapé\\tou\\tmateriais\\tricos\\t(como\\t',\n",
              " 'eBook,\\tinfográficos,\\tentre\\toutros).\\t',\n",
              " '\\t',\n",
              " 'Assinantes:\\t6\\t',\n",
              " 'Clientes\\tassinantes\\tda\\tEscola\\tde\\tData\\tScience,\\tconsiderando-se\\to\\tplano\\t',\n",
              " 'renovável\\tde\\tassinatura\\tmensal.\\t',\n",
              " '\\t']"
            ]
          },
          "metadata": {},
          "execution_count": 11
        }
      ]
    },
    {
      "cell_type": "markdown",
      "source": [
        "Agora que já \"quebramos\" nossa string em pedaços, podemos pereber que há informações em linhas, e podemos acessar qualquer dessas lihas e aplicar o mesmo método, contudo apenas em uma linha e informando sua posição. Neste caso, vamos analisar a informação da receita. Contando as linhas, sabemos que esta informação está na linha número , portanto, posição 6 do \"array\"."
      ],
      "metadata": {
        "id": "NoqFsvmcfZlj"
      }
    },
    {
      "cell_type": "code",
      "source": [
        "#fatiando a linha alvo:\n",
        "receita = page1.split(\"\\n\")[6]\n",
        "receita"
      ],
      "metadata": {
        "colab": {
          "base_uri": "https://localhost:8080/",
          "height": 36
        },
        "id": "4pQJhG_0gIr-",
        "outputId": "6fb05d82-a459-4ade-ae4d-c536fbf3fb2f"
      },
      "execution_count": 12,
      "outputs": [
        {
          "output_type": "execute_result",
          "data": {
            "application/vnd.google.colaboratory.intrinsic+json": {
              "type": "string"
            },
            "text/plain": [
              "'RECEITA:\\tR$\\t1297.00\\t'"
            ]
          },
          "metadata": {},
          "execution_count": 12
        }
      ]
    },
    {
      "cell_type": "markdown",
      "source": [
        "Agora vamos retirar esses carcterers \"\\t\" da string receita, para termos apenas os dados que fazem sentido para nós. Para isso, vamos utilizar o método replace, que em inglês quer dizer substituir. Ou seja, vamos sinalizar que onde houver o caracterer que queremos alterar, que seja substituido por outro que definimos."
      ],
      "metadata": {
        "id": "jHnZzMvogVnF"
      }
    },
    {
      "cell_type": "code",
      "source": [
        "#substituindo o \"\\t\" por \"\"\n",
        "receita = receita.replace('\\t','')\n",
        "receita"
      ],
      "metadata": {
        "colab": {
          "base_uri": "https://localhost:8080/",
          "height": 36
        },
        "id": "YYxbNDr6hAHf",
        "outputId": "1ac5b8e1-5bb7-4d45-bee4-17f27cb137f7"
      },
      "execution_count": 13,
      "outputs": [
        {
          "output_type": "execute_result",
          "data": {
            "application/vnd.google.colaboratory.intrinsic+json": {
              "type": "string"
            },
            "text/plain": [
              "'RECEITA:R$1297.00'"
            ]
          },
          "metadata": {},
          "execution_count": 13
        }
      ]
    },
    {
      "cell_type": "markdown",
      "source": [
        "Vamos agora fatiar novamente nossa inforamção para separar o que vem antes e depois do \"R$\", assim conseguiremos acessar o valor da receita."
      ],
      "metadata": {
        "id": "Ws0zzjP1hPM7"
      }
    },
    {
      "cell_type": "code",
      "source": [
        "#split com o R$\n",
        "receita = receita.split(\"R$\")\n",
        "receita"
      ],
      "metadata": {
        "colab": {
          "base_uri": "https://localhost:8080/"
        },
        "id": "AYjPAxHnittO",
        "outputId": "e5c54680-f8fc-40dd-e67b-fe43a6cbae8a"
      },
      "execution_count": 14,
      "outputs": [
        {
          "output_type": "execute_result",
          "data": {
            "text/plain": [
              "['RECEITA:', '1297.00']"
            ]
          },
          "metadata": {},
          "execution_count": 14
        }
      ]
    },
    {
      "cell_type": "markdown",
      "source": [
        "Agora sabems que o valor está na posição 1 da \"lista\" de informações. Podemos transformar esse valor em número decimal (float)? Vamos tentar?\n"
      ],
      "metadata": {
        "id": "SBZv-z2njDZm"
      }
    },
    {
      "cell_type": "code",
      "source": [
        "#transformando o valor de String para float\n",
        "valor = float(receita[1])\n",
        "valor"
      ],
      "metadata": {
        "colab": {
          "base_uri": "https://localhost:8080/"
        },
        "id": "LIkE3ZvmjP3y",
        "outputId": "df570e25-a638-43d4-8e78-4990482b477c"
      },
      "execution_count": 15,
      "outputs": [
        {
          "output_type": "execute_result",
          "data": {
            "text/plain": [
              "1297.0"
            ]
          },
          "metadata": {},
          "execution_count": 15
        }
      ]
    },
    {
      "cell_type": "markdown",
      "source": [
        "Agora que sabemos um pouco sobre manipulação de Strings, podemos fazer a leitura de vários arquivos, para obter o valor da receita semanal, por exemplo. Para isso, podemos apenas copiar nossos códigos e colocar dentro de uma estrutura de repetição."
      ],
      "metadata": {
        "id": "BclzAQ7rjzCe"
      }
    },
    {
      "cell_type": "code",
      "source": [
        "#percorrendo todos os arquivos da pasta:\n",
        "soma =0 \n",
        "for arquivo in arquivos:\n",
        "  #abrindo o arquivo atual do laço\n",
        "  relatorio = pdfplumber.open(arquivo)\n",
        "  #definindo a página que acessaremos\n",
        "  pagina = relatorio.pages[0]\n",
        "  #extraindo o texto da página:\n",
        "  texto = pagina.extract_text()\n",
        "  #fatiando a string até chegar no valor da receita\n",
        "  valor = texto.split(\"\\n\")[6].replace(\"\\t\", \"\").split(\"R$\")[1]\n",
        "  #convertendo o valor em float\n",
        "  valor = float(valor)\n",
        "  soma = soma + valor\n",
        "print(soma)"
      ],
      "metadata": {
        "colab": {
          "base_uri": "https://localhost:8080/"
        },
        "id": "D8GISvOfgrzN",
        "outputId": "95956fdb-7394-4be2-8741-f657390cb4da"
      },
      "execution_count": 16,
      "outputs": [
        {
          "output_type": "stream",
          "name": "stdout",
          "text": [
            "5096.0\n"
          ]
        }
      ]
    }
  ]
}