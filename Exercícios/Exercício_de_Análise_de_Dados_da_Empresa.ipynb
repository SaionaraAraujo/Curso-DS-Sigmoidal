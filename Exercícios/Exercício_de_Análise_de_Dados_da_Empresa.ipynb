{
  "nbformat": 4,
  "nbformat_minor": 0,
  "metadata": {
    "colab": {
      "name": "Exercício de Análise de Dados da Empresa.ipynb",
      "provenance": [],
      "collapsed_sections": [
        "rs1KIKQPpeO6",
        "r0wsAfaVqzRc",
        "oCZACW4Es-uo",
        "Q7GqgOii0tG8"
      ]
    },
    "kernelspec": {
      "name": "python3",
      "display_name": "Python 3"
    },
    "language_info": {
      "name": "python"
    }
  },
  "cells": [
    {
      "cell_type": "markdown",
      "source": [
        "# Anáise exploratória de dados de uma empresa"
      ],
      "metadata": {
        "id": "rs1KIKQPpeO6"
      }
    },
    {
      "cell_type": "markdown",
      "source": [
        "Até este momento do curso, já passamos por assuntos que nos permitem realizar análise exploratória de uma planilha, disponível no google drive. A intenção aqui é, utilizando Python, plotar gráficos para analisar os dados, aplicando todos os conhecimentos vistos até o momento. Vamos lá?! 📊"
      ],
      "metadata": {
        "id": "9POPQ8HIpljh"
      }
    },
    {
      "cell_type": "markdown",
      "source": [
        "# Fase inicial"
      ],
      "metadata": {
        "id": "r0wsAfaVqzRc"
      }
    },
    {
      "cell_type": "markdown",
      "source": [
        "A primeria coisa é sempre importar as bibliotecas que utilizaremos (vamos repetir essa informação até que seja automático em nossa cabeça 🤩 ), montar o drive no nosso código e selecionar o diretório e arquivo que vamos utilizar."
      ],
      "metadata": {
        "id": "QNDsqTGiq8kH"
      }
    },
    {
      "cell_type": "code",
      "execution_count": 32,
      "metadata": {
        "id": "kf5TqfhFpdYS"
      },
      "outputs": [],
      "source": [
        "#importando as bibliotecas\n",
        "import pandas as pd\n",
        "import matplotlib.pyplot as plt\n",
        "from google.colab import drive\n",
        "\n",
        "#montando o drive\n",
        "drive.mount\n",
        "\n",
        "#importar ( ou selecionar) a planilha com pandas:\n",
        "planilha = pd.read_excel('/content/drive/MyDrive/controle_da_empresa.xlsx', None)\n"
      ]
    },
    {
      "cell_type": "markdown",
      "source": [
        "# Histograma com o total de vendas"
      ],
      "metadata": {
        "id": "oCZACW4Es-uo"
      }
    },
    {
      "cell_type": "markdown",
      "source": [
        "A seguir, vamos plotar o histogram de uma das colunas para que possamos analisar os dados. Este tipo de gráfico nos ajudam a entender a distribuição de determinada variável em nosso conjunto de dados. Podem ser úteis ainda para identificar padrões, os dados muito discrepantes (*outliers*), sendo bastante utilizados na análise de dados."
      ],
      "metadata": {
        "id": "q6uVsTxTtEE6"
      }
    },
    {
      "cell_type": "code",
      "source": [
        "#plotar Histograma\n",
        "\n",
        "#Selecionar a planilha vendas, que consta no arquivo aberto\n",
        "df = planilha['Vendas']\n",
        "\n",
        "#visualizar as 5 primeiras linhas\n",
        "df.head()\n",
        "\n"
      ],
      "metadata": {
        "colab": {
          "base_uri": "https://localhost:8080/",
          "height": 206
        },
        "id": "U5aos-EptwTh",
        "outputId": "1baf020f-7383-4568-c914-c2a444cdda9d"
      },
      "execution_count": 34,
      "outputs": [
        {
          "output_type": "execute_result",
          "data": {
            "text/html": [
              "\n",
              "  <div id=\"df-743e339f-a7f9-4f8e-8b77-aeb858ec73f4\">\n",
              "    <div class=\"colab-df-container\">\n",
              "      <div>\n",
              "<style scoped>\n",
              "    .dataframe tbody tr th:only-of-type {\n",
              "        vertical-align: middle;\n",
              "    }\n",
              "\n",
              "    .dataframe tbody tr th {\n",
              "        vertical-align: top;\n",
              "    }\n",
              "\n",
              "    .dataframe thead th {\n",
              "        text-align: right;\n",
              "    }\n",
              "</style>\n",
              "<table border=\"1\" class=\"dataframe\">\n",
              "  <thead>\n",
              "    <tr style=\"text-align: right;\">\n",
              "      <th></th>\n",
              "      <th>Data da Venda</th>\n",
              "      <th>Item</th>\n",
              "      <th>Quantidade</th>\n",
              "      <th>Vendedor</th>\n",
              "      <th>Preço Unitário</th>\n",
              "      <th>Total de Vendas</th>\n",
              "    </tr>\n",
              "  </thead>\n",
              "  <tbody>\n",
              "    <tr>\n",
              "      <th>85</th>\n",
              "      <td>2020-01-29</td>\n",
              "      <td>Filtro ND 5 Stop</td>\n",
              "      <td>2</td>\n",
              "      <td>Theo</td>\n",
              "      <td>1220</td>\n",
              "      <td>2440</td>\n",
              "    </tr>\n",
              "    <tr>\n",
              "      <th>86</th>\n",
              "      <td>2020-01-29</td>\n",
              "      <td>Lente 16-35mm f/2.8</td>\n",
              "      <td>2</td>\n",
              "      <td>Theo</td>\n",
              "      <td>8997</td>\n",
              "      <td>17994</td>\n",
              "    </tr>\n",
              "    <tr>\n",
              "      <th>87</th>\n",
              "      <td>2020-01-29</td>\n",
              "      <td>Filtro ND 2 Stop</td>\n",
              "      <td>1</td>\n",
              "      <td>Fernanda</td>\n",
              "      <td>1220</td>\n",
              "      <td>1220</td>\n",
              "    </tr>\n",
              "    <tr>\n",
              "      <th>88</th>\n",
              "      <td>2020-01-30</td>\n",
              "      <td>Filtro ND 3 Stop</td>\n",
              "      <td>2</td>\n",
              "      <td>Fernanda</td>\n",
              "      <td>1220</td>\n",
              "      <td>2440</td>\n",
              "    </tr>\n",
              "    <tr>\n",
              "      <th>89</th>\n",
              "      <td>2020-01-30</td>\n",
              "      <td>Filtro ND 5 Stop</td>\n",
              "      <td>2</td>\n",
              "      <td>Raquel</td>\n",
              "      <td>1220</td>\n",
              "      <td>2440</td>\n",
              "    </tr>\n",
              "  </tbody>\n",
              "</table>\n",
              "</div>\n",
              "      <button class=\"colab-df-convert\" onclick=\"convertToInteractive('df-743e339f-a7f9-4f8e-8b77-aeb858ec73f4')\"\n",
              "              title=\"Convert this dataframe to an interactive table.\"\n",
              "              style=\"display:none;\">\n",
              "        \n",
              "  <svg xmlns=\"http://www.w3.org/2000/svg\" height=\"24px\"viewBox=\"0 0 24 24\"\n",
              "       width=\"24px\">\n",
              "    <path d=\"M0 0h24v24H0V0z\" fill=\"none\"/>\n",
              "    <path d=\"M18.56 5.44l.94 2.06.94-2.06 2.06-.94-2.06-.94-.94-2.06-.94 2.06-2.06.94zm-11 1L8.5 8.5l.94-2.06 2.06-.94-2.06-.94L8.5 2.5l-.94 2.06-2.06.94zm10 10l.94 2.06.94-2.06 2.06-.94-2.06-.94-.94-2.06-.94 2.06-2.06.94z\"/><path d=\"M17.41 7.96l-1.37-1.37c-.4-.4-.92-.59-1.43-.59-.52 0-1.04.2-1.43.59L10.3 9.45l-7.72 7.72c-.78.78-.78 2.05 0 2.83L4 21.41c.39.39.9.59 1.41.59.51 0 1.02-.2 1.41-.59l7.78-7.78 2.81-2.81c.8-.78.8-2.07 0-2.86zM5.41 20L4 18.59l7.72-7.72 1.47 1.35L5.41 20z\"/>\n",
              "  </svg>\n",
              "      </button>\n",
              "      \n",
              "  <style>\n",
              "    .colab-df-container {\n",
              "      display:flex;\n",
              "      flex-wrap:wrap;\n",
              "      gap: 12px;\n",
              "    }\n",
              "\n",
              "    .colab-df-convert {\n",
              "      background-color: #E8F0FE;\n",
              "      border: none;\n",
              "      border-radius: 50%;\n",
              "      cursor: pointer;\n",
              "      display: none;\n",
              "      fill: #1967D2;\n",
              "      height: 32px;\n",
              "      padding: 0 0 0 0;\n",
              "      width: 32px;\n",
              "    }\n",
              "\n",
              "    .colab-df-convert:hover {\n",
              "      background-color: #E2EBFA;\n",
              "      box-shadow: 0px 1px 2px rgba(60, 64, 67, 0.3), 0px 1px 3px 1px rgba(60, 64, 67, 0.15);\n",
              "      fill: #174EA6;\n",
              "    }\n",
              "\n",
              "    [theme=dark] .colab-df-convert {\n",
              "      background-color: #3B4455;\n",
              "      fill: #D2E3FC;\n",
              "    }\n",
              "\n",
              "    [theme=dark] .colab-df-convert:hover {\n",
              "      background-color: #434B5C;\n",
              "      box-shadow: 0px 1px 3px 1px rgba(0, 0, 0, 0.15);\n",
              "      filter: drop-shadow(0px 1px 2px rgba(0, 0, 0, 0.3));\n",
              "      fill: #FFFFFF;\n",
              "    }\n",
              "  </style>\n",
              "\n",
              "      <script>\n",
              "        const buttonEl =\n",
              "          document.querySelector('#df-743e339f-a7f9-4f8e-8b77-aeb858ec73f4 button.colab-df-convert');\n",
              "        buttonEl.style.display =\n",
              "          google.colab.kernel.accessAllowed ? 'block' : 'none';\n",
              "\n",
              "        async function convertToInteractive(key) {\n",
              "          const element = document.querySelector('#df-743e339f-a7f9-4f8e-8b77-aeb858ec73f4');\n",
              "          const dataTable =\n",
              "            await google.colab.kernel.invokeFunction('convertToInteractive',\n",
              "                                                     [key], {});\n",
              "          if (!dataTable) return;\n",
              "\n",
              "          const docLinkHtml = 'Like what you see? Visit the ' +\n",
              "            '<a target=\"_blank\" href=https://colab.research.google.com/notebooks/data_table.ipynb>data table notebook</a>'\n",
              "            + ' to learn more about interactive tables.';\n",
              "          element.innerHTML = '';\n",
              "          dataTable['output_type'] = 'display_data';\n",
              "          await google.colab.output.renderOutput(dataTable, element);\n",
              "          const docLink = document.createElement('div');\n",
              "          docLink.innerHTML = docLinkHtml;\n",
              "          element.appendChild(docLink);\n",
              "        }\n",
              "      </script>\n",
              "    </div>\n",
              "  </div>\n",
              "  "
            ],
            "text/plain": [
              "   Data da Venda                 Item  ...  Preço Unitário Total de Vendas\n",
              "85    2020-01-29     Filtro ND 5 Stop  ...            1220            2440\n",
              "86    2020-01-29  Lente 16-35mm f/2.8  ...            8997           17994\n",
              "87    2020-01-29     Filtro ND 2 Stop  ...            1220            1220\n",
              "88    2020-01-30     Filtro ND 3 Stop  ...            1220            2440\n",
              "89    2020-01-30     Filtro ND 5 Stop  ...            1220            2440\n",
              "\n",
              "[5 rows x 6 columns]"
            ]
          },
          "metadata": {},
          "execution_count": 34
        }
      ]
    },
    {
      "cell_type": "code",
      "source": [
        "#Definindo o título e conjunto de dados a ser utilizado\n",
        "plt.hist(\"Total de Vendas\", data=df)\n",
        "#definindo o títuto do eixo x do gráfico\n",
        "plt.xlabel(\"Total de Vendas\")\n",
        "#definindo o títuto do eixo y do gráfico\n",
        "plt.ylabel(\"Quantidade\")\n",
        "#mostrando o gráfico\n",
        "plt.show()"
      ],
      "metadata": {
        "colab": {
          "base_uri": "https://localhost:8080/",
          "height": 279
        },
        "id": "K0hsvXHbzKr_",
        "outputId": "8f688dd0-53ac-42d2-c40c-983a12d35239"
      },
      "execution_count": 40,
      "outputs": [
        {
          "output_type": "display_data",
          "data": {
            "image/png": "[encoded data removed]",
            "text/plain": [
              "<Figure size 432x288 with 1 Axes>"
            ]
          },
          "metadata": {
            "needs_background": "light"
          }
        }
      ]
    },
    {
      "cell_type": "markdown",
      "source": [
        "# Gráfico de linha das vendas ao longo do tempo"
      ],
      "metadata": {
        "id": "Q7GqgOii0tG8"
      }
    },
    {
      "cell_type": "markdown",
      "source": [
        "O gráfico de linha é um tipo de gráfico que exibe informações com uma série de pontos de dados chamados de marcadores ligados por segmentos de linha reta, registrados ao longo do tempo. Ele é útili para analisar o comportamento dos gráficos ao longo de um período."
      ],
      "metadata": {
        "id": "l815OEdg0zgy"
      }
    },
    {
      "cell_type": "markdown",
      "source": [
        "Para anaisar os dados com este tipo de gráfico, utilizaremos a coluna `Data da Venda`, que está armazenada como `String`, e precisa ser alterada para o tipo data."
      ],
      "metadata": {
        "id": "DhSPCXrt1a27"
      }
    },
    {
      "cell_type": "code",
      "source": [
        "# rode a célula para transformar a coluna Datas para o formato datetime\n",
        "df['Data da Venda'] = pd.to_datetime(df['Data da Venda'], infer_datetime_format=True)\n",
        "\n",
        "#Definindo os dados utilizados no gráfico de linha, no eixo X, no eixo Y e o conjunto de dados, respectivamente\n",
        "plt.plot('Data da Venda', 'Total de Vendas', data = df)\n",
        "\n",
        "#Título do eixo x:\n",
        "plt.xlabel('Data da Venda')\n",
        "\n",
        "#Título do eixo y:\n",
        "plt.ylabel(\"Quantidade vendida\")\n",
        "\n",
        "#aumentas o tamanho do Gráfico\n",
        "plt.rcParams['figure.figsize'] = (14,7)\n",
        "plt.xticks(rotation=45)\n",
        "\n",
        "plt.show()"
      ],
      "metadata": {
        "colab": {
          "base_uri": "https://localhost:8080/",
          "height": 480
        },
        "id": "pVJnsD7o1reb",
        "outputId": "f6802cb6-9f93-439b-e713-e13833c562ac"
      },
      "execution_count": 50,
      "outputs": [
        {
          "output_type": "display_data",
          "data": {
            "image/png": "[encoded data removed]",
            "text/plain": [
              "<Figure size 1008x504 with 1 Axes>"
            ]
          },
          "metadata": {
            "needs_background": "light"
          }
        }
      ]
    },
    {
      "cell_type": "markdown",
      "source": [
        "# Gráfico de barras para os vendedores"
      ],
      "metadata": {
        "id": "H7uK-Bmh4ViY"
      }
    },
    {
      "cell_type": "markdown",
      "source": [
        "O gráfico de barras nos ajuda principalmente na hora de representar variáveis discretas. Este gráfico é muito parecido com o histograma, mas tem objettivos distintos. No gráfico de barras, o tamanho das barras representam a proporção dos valores analisados. As barras podem ser verticais ou horizontais, e em alguns casos, são utilizadas barras agrupadas para facilitar a comparação entre os dados. Neste exercício, vamos utilizar apenas o gráfico de barras verticais, simples.\n",
        "\n"
      ],
      "metadata": {
        "id": "Jyyd37Nk4asW"
      }
    },
    {
      "cell_type": "code",
      "source": [
        "#É preciso contar os valores distintos para que o gráfico represente estes valores:\n",
        "df['Vendedor'].value_counts().plot(kind='bar');\n",
        "#com o comando acima já é possível plotar o gráfico com os dados já contados."
      ],
      "metadata": {
        "colab": {
          "base_uri": "https://localhost:8080/",
          "height": 465
        },
        "id": "3xeL0qVJ51Et",
        "outputId": "e375ecfd-7fa5-4a82-b44b-c5b30ef2e647"
      },
      "execution_count": 54,
      "outputs": [
        {
          "output_type": "display_data",
          "data": {
            "image/png": "[encoded data removed]",
            "text/plain": [
              "<Figure size 1008x504 with 1 Axes>"
            ]
          },
          "metadata": {
            "needs_background": "light"
          }
        }
      ]
    },
    {
      "cell_type": "markdown",
      "source": [
        "# Gráfico de pizza ou waffle para os produtos mais vendidos"
      ],
      "metadata": {
        "id": "II0nFRE77Ix1"
      }
    },
    {
      "cell_type": "markdown",
      "source": [
        "O gráfico de pizza é bastante dispensável, apesar de bem popular. Mas é bom que evitemos utilizar, a menos que ele seja solicitado. Vamos mostrar então um novo gráfico (pelo menos foi novo para mim, pois eu nunca havia visto): o gráfico Waffle. Ele distribui os dados em quadradinhos coloridos que representam cada \"categoria\". Um porém, é que este gráfico não é nativo no colab, por isso é preciso instalar este pacote."
      ],
      "metadata": {
        "id": "MZVYuWfF7TPe"
      }
    },
    {
      "cell_type": "code",
      "source": [
        "#instalando o pacote do Waffle:\n",
        "!pip install pywaffle"
      ],
      "metadata": {
        "colab": {
          "base_uri": "https://localhost:8080/"
        },
        "id": "bLjkrg3v8E6F",
        "outputId": "bceda827-d0eb-4def-c77a-96284bbf7538"
      },
      "execution_count": 55,
      "outputs": [
        {
          "output_type": "stream",
          "name": "stdout",
          "text": [
            "Collecting pywaffle\n",
            "  Downloading pywaffle-0.6.4-py2.py3-none-any.whl (565 kB)\n",
            "\u001b[K     |████████████████████████████████| 565 kB 4.4 MB/s \n",
            "\u001b[?25hRequirement already satisfied: matplotlib in /usr/local/lib/python3.7/dist-packages (from pywaffle) (3.2.2)\n",
            "Requirement already satisfied: pyparsing!=2.0.4,!=2.1.2,!=2.1.6,>=2.0.1 in /usr/local/lib/python3.7/dist-packages (from matplotlib->pywaffle) (3.0.6)\n",
            "Requirement already satisfied: cycler>=0.10 in /usr/local/lib/python3.7/dist-packages (from matplotlib->pywaffle) (0.11.0)\n",
            "Requirement already satisfied: kiwisolver>=1.0.1 in /usr/local/lib/python3.7/dist-packages (from matplotlib->pywaffle) (1.3.2)\n",
            "Requirement already satisfied: python-dateutil>=2.1 in /usr/local/lib/python3.7/dist-packages (from matplotlib->pywaffle) (2.8.2)\n",
            "Requirement already satisfied: numpy>=1.11 in /usr/local/lib/python3.7/dist-packages (from matplotlib->pywaffle) (1.19.5)\n",
            "Requirement already satisfied: six>=1.5 in /usr/local/lib/python3.7/dist-packages (from python-dateutil>=2.1->matplotlib->pywaffle) (1.15.0)\n",
            "Installing collected packages: pywaffle\n",
            "Successfully installed pywaffle-0.6.4\n"
          ]
        }
      ]
    },
    {
      "cell_type": "code",
      "source": [
        "#Importar a biblioteca Waffle\n",
        "from pywaffle import Waffle\n",
        "#criar um diconário para armazenar as quantidade de itens vendidos:\n",
        "itens = dict(df['Item'].value_counts())\n",
        "itens\n",
        "fig = plt.figure(\n",
        "    FigureClass= Waffle,\n",
        "    rows = 4,\n",
        "    columns = 10,\n",
        "    values={'Filtro ND 5 Stop':14,'Lente 16-35mm f/2.8':12,'Filtro ND 3 Stop':11,'Lente 50mm f/1.4':10},\n",
        "    legend={'loc': 'upper left','bbox_to_anchor':(1, 1)}\n",
        ")\n",
        "fig.set_tight_layout(False)\n",
        "plt.show()"
      ],
      "metadata": {
        "colab": {
          "base_uri": "https://localhost:8080/",
          "height": 335
        },
        "id": "s-6EECWY7Hia",
        "outputId": "af34ce66-bc7e-4868-b39e-1d9041869dbb"
      },
      "execution_count": 69,
      "outputs": [
        {
          "output_type": "display_data",
          "data": {
            "image/png": "[encoded data removed]",
            "text/plain": [
              "<Waffle size 1008x504 with 1 Axes>"
            ]
          },
          "metadata": {
            "needs_background": "light"
          }
        }
      ]
    }
  ]
}