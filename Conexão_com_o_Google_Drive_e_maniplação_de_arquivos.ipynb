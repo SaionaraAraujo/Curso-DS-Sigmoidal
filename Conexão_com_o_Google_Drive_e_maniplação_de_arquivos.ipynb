{
  "nbformat": 4,
  "nbformat_minor": 0,
  "metadata": {
    "colab": {
      "name": "Conexão com o Google Drive e maniplação de arquivos.ipynb",
      "provenance": [],
      "mount_file_id": "12458XIcKnlNYDPBfC7HPZ5hOTQoqxu8q",
      "authorship_tag": "ABX9TyMp+lv658n6kZSqEwp3uDm2",
      "include_colab_link": true
    },
    "kernelspec": {
      "name": "python3",
      "display_name": "Python 3"
    },
    "language_info": {
      "name": "python"
    }
  },
  "cells": [
    {
      "cell_type": "markdown",
      "metadata": {
        "id": "view-in-github",
        "colab_type": "text"
      },
      "source": [
        "<a href=\"https://colab.research.google.com/github/SaionaraAraujo/Curso-DS-Sigmoidal/blob/master/Conex%C3%A3o_com_o_Google_Drive_e_manipla%C3%A7%C3%A3o_de_arquivos.ipynb\" target=\"_parent\"><img src=\"https://colab.research.google.com/assets/colab-badge.svg\" alt=\"Open In Colab\"/></a>"
      ]
    },
    {
      "cell_type": "markdown",
      "metadata": {
        "id": "pyhFSk8SFt7s"
      },
      "source": [
        "# **Conexão com o Google Drive e maniplação de arquivos**"
      ]
    },
    {
      "cell_type": "markdown",
      "metadata": {
        "id": "Do-39XXsGCF8"
      },
      "source": [
        "Se o Colab faz parte do conjunto de ferramentas da Google, era de se esperar que houvesse fácil integração com o Drive. Isso facilita o acesso a arquivos compartilhados, garantir que arquivos estejam salvos em lugares seguros e todas as facilidades que o Drive nos tras desde sempre. Sendo assim, nessa aula aprendemos sobre essa conexão, as ferramentas nativas (e de fácil acesso do Colab) e manipulação de arquivos. Vamos aos exercícios!!"
      ]
    },
    {
      "cell_type": "markdown",
      "metadata": {
        "id": "YSZ-MPGeGqnu"
      },
      "source": [
        "Primeiro passo é conectar o Colab ao seu Drive. Após executar o comando, o Colab vai te pedir um código de autenticação que você conseguirá após acessar o link que será exibido após o comando:"
      ]
    },
    {
      "cell_type": "code",
      "metadata": {
        "id": "VsC5XIl0GlKr"
      },
      "source": [
        "#conectando com o Drive:\n",
        "from google.colab import drive"
      ],
      "execution_count": null,
      "outputs": []
    },
    {
      "cell_type": "markdown",
      "metadata": {
        "id": "U0ytWu3SHUAp"
      },
      "source": [
        "Após feita a conexão é preciso \"montar\" seu drive neste ambiente:"
      ]
    },
    {
      "cell_type": "code",
      "metadata": {
        "colab": {
          "base_uri": "https://localhost:8080/"
        },
        "id": "qGorYK4YHaef",
        "outputId": "948e31e7-86a6-44b6-9a34-7781986d3ee8"
      },
      "source": [
        "#montando o drive:\n",
        "drive.mount (\"/content/drive\")"
      ],
      "execution_count": null,
      "outputs": [
        {
          "output_type": "stream",
          "name": "stdout",
          "text": [
            "Drive already mounted at /content/drive; to attempt to forcibly remount, call drive.mount(\"/content/drive\", force_remount=True).\n"
          ]
        }
      ]
    },
    {
      "cell_type": "markdown",
      "metadata": {
        "id": "UD8xT-omIZuv"
      },
      "source": [
        "Agora seu drive está montado e disonível para ser acessado. Para visualizar os arquivos que nele estão, você pode utilizar o comando `!ls`:"
      ]
    },
    {
      "cell_type": "code",
      "metadata": {
        "colab": {
          "base_uri": "https://localhost:8080/"
        },
        "id": "KeEXht0pIrlq",
        "outputId": "8182f8a4-b9f0-4d14-8779-95d5faa7ce4b"
      },
      "source": [
        "!ls \"drive/MyDrive\""
      ],
      "execution_count": null,
      "outputs": [
        {
          "output_type": "stream",
          "name": "stdout",
          "text": [
            " 089.pdf\n",
            "'2015, Template Projeto-saionara (1).gdoc'\n",
            "'2015, Template Projeto-saionara.gdoc'\n",
            "'2016, Projeto e-Sinais (Saioanara).gdoc'\n",
            "'2016, Projeto e-Sinais (somente Saionara) - 1 (OBS Pablo).gdoc'\n",
            "'2017-04-24- Tecnologia Assistiva e Software Educacional (Jornada Pedagógica 2017).gslides'\n",
            "'50 CHAVEIROS.pdf · versão 1.pdf'\n",
            "'Aéreo - Orçamentos e comprovantes.gdoc'\n",
            "'Aéreo - Pedido Allexandre.gdoc'\n",
            "'Anexo 01 - Esquema Conceitual.jpg'\n",
            "'__Anexo I - Ficha de inscrição.docx'\n",
            "'__Anexo I - Ficha de inscrição.docx.gdoc'\n",
            "'__Anexo I - Ficha de inscrição.gdoc'\n",
            " Anexos-Edital-No-01-PRPGI-PIBIC-IFBA-FAPESB-2015_saionara.gdoc\n",
            " Anteprojeto_Maiane_Salomao_1.0.docx\n",
            "'apostila amigurumi.pdf'\n",
            "'Apresentação 1 - AMS 2.gslides'\n",
            "'Apresentação DA.gslides'\n",
            "'Apresentação final Programas Universais.gslides'\n",
            "'Apresentação Mineração de Dados.gslides'\n",
            "'Artigo connepi'\n",
            "'Artigo Connepi Mineração de Dados'\n",
            " Artigo_Mineração_2016.doc\n",
            " Artigo_Mineração_2016.doc.gdoc\n",
            "'Artigo Mobile.gdoc'\n",
            " Atividade_Diego.gdoc\n",
            "'ATIVIDADES - TI'\n",
            " aula01\n",
            " aula02.ipynb\n",
            " aula03\n",
            " aula03.ipynb\n",
            "'Avaliação do SIPF.docx'\n",
            "'backlog background.gsheet'\n",
            " backup-IFBA1.sql\n",
            " backup.zip\n",
            " Barema.pdf\n",
            "'BAREMA - Saionara.xlsx'\n",
            "'BD Projeto.rar'\n",
            "'Be OS.gslides'\n",
            "'Capa para CD.gdoc'\n",
            "'Capa para CD - Kauanna.gdoc'\n",
            " Certificados\n",
            "'Colab Notebooks'\n",
            "'Conceitual(04-11).brM'\n",
            " CONNEPI2016-LacerdaEtAl-Mineração-6.docx\n",
            " CONNEPI2016-LacerdaEtAl-Mineração-6.docx.gdoc\n",
            "'CÓPIA CONTROLE  luciano Alex ZÉ  2014.xlsx.gsheet'\n",
            "'Cópia de Hecate.gslides'\n",
            "'Cópia de Nathaniel.gslides'\n",
            "'Cópia de Snug.gslides'\n",
            "'Cronograma PJTC.gsheet'\n",
            " CSBC2016-SilvaEtAl-1.gslides\n",
            "'~$cumentação SIPF Sistemas Integrados Paulo Freire.docx'\n",
            " Curriculo\n",
            " CURRICULO_SAIONARA.pdf\n",
            " DadosIntegrantesProjeto.gsheet\n",
            " Diego.docx\n",
            "'DOC-20171115-WA0001 (1).gdoc'\n",
            "'DOC-20171115-WA0001 (2).gdoc'\n",
            "'DOC-20171115-WA0001 (3).gdoc'\n",
            " DOC-20171115-WA0001.gdoc\n",
            "'Documentação SIPF Sistemas Integrados Paulo Freire.docx'\n",
            "'Documentação SisFarma.docx.gdoc'\n",
            " Documentos\n",
            "'Documento sem título.gdoc'\n",
            " downloadfile-9.bin\n",
            "'É esse.docx'\n",
            "'e-Sinais - Final (outubro).rar'\n",
            " e-Sinais.rar\n",
            "'FluxogramaSECOMP_Atualizado (26-11).jpeg'\n",
            " FluxogramaSECOMP.dia\n",
            " FluxogramaSECOMP.dia~~\n",
            " FluxogramaSECOMP.jpeg\n",
            "'Formulário sem título (1).gform'\n",
            "'Formulário sem título.gform'\n",
            "'Foto de Saionara.gdoc'\n",
            "'Gestão de Projetos - Primavera.gslides'\n",
            "'Gestão de Qualidade.gdoc'\n",
            "'Gestão de Qualidade.pdf'\n",
            "'IFBA-BSI-Requisitos-v1.0 (1).doc.gdoc'\n",
            " IFBA-BSI-Requisitos-v1.0.doc.gdoc\n",
            "'IFBA-Modelo de Relatorio de Avaliacao-v1.0.doc'\n",
            " IFBA-TCC\n",
            "'Integer Overflow.gslides'\n",
            " IoT\n",
            " livro_beta2.pdf\n",
            "'LOGICO_(01-11).brM'\n",
            "'lógico (01 - 11).jpg'\n",
            "'LOGICO(12-11).brM'\n",
            "'Lógico (24 - 10).jpg'\n",
            "'mapeamento BD noia (16_10).docx.gdoc'\n",
            "'mapeamento BD noia (16_10).docx.rar'\n",
            "'Mapemaneto de usuários das pastas no x público.gdoc'\n",
            "'Marco Civil.pptx'\n",
            "'Material Estudo de Caso e-Sinais'\n",
            "'Mineração de Dados - Trabalho'\n",
            " Minimundo.gdoc\n",
            " Mobile.gslides\n",
            "'Modelo Capa  Monografia CDs Atual.gdoc'\n",
            "'Monografia_TCC2 - v14 - Versão com sugestões da banca  (Saionara).docx'\n",
            "'NANINHA VARIOS MODELOS.pdf'\n",
            " NoSQL.docx\n",
            "'O Pequeno Príncipe Traduzido.pdf'\n",
            "'Planilha sem título (1).gsheet'\n",
            "'Planilha sem título.gsheet'\n",
            " POSTER_CONNEPI2016.pptx\n",
            " POSTER_CONNEPI2016.pptx.gslides\n",
            "'Processo Controlar os custos.pdf'\n",
            "'processos de planejamento de tempo.docx'\n",
            "'Projeto AMS I - Catia Oliveira e Saionara Araújo (1).docx.doc'\n",
            "'Projeto AMS I - Catia Oliveira e Saionara Araújo.docx.doc'\n",
            "'Projeto de Pesquisa_Mestrado - v2 (Pablo).gdoc'\n",
            "'Projeto de Pesquisa_Mestrado - v2 (Saionara) (1).gdoc'\n",
            "'Projeto de Pesquisa_Mestrado - v2 (Saionara) (2).gdoc'\n",
            "'Projeto de Pesquisa_Mestrado - v2 (Saionara) (3).gdoc'\n",
            "'Projeto de Pesquisa_Mestrado - v2 (Saionara) (4).gdoc'\n",
            "'Projeto de Pesquisa_Mestrado - v2 (Saionara).gdoc'\n",
            "'Projeto de Pesquisa_TCC - v8 (Pablo) - Versão final TCC-I.pdf'\n",
            "'Projeto do mestrado'\n",
            "'Projeto e-Sinais'\n",
            " Projeto_Final.docx.gdoc\n",
            "'Projeto - Gerenciamento de Compras - IFBA.docx'\n",
            "'Projeto - Gerenciamento de Compras - IFBA (Modelo Lógico).docx'\n",
            "'Projeto - Gerenciamento de Compras - IFBA (Modelo Lógico v. 2.0).docx'\n",
            "'Projeto redes 1'\n",
            "'prova CA 2a 2014.2 Saionara da Silva Araújo.pdf'\n",
            "'prova CA 3a 2014.2.pdf'\n",
            " recibo_13062020185732.png\n",
            "'Relatório de atividades desenvolvidas.gdoc'\n",
            "'Relatório Fevereiro 2014- Filipe Freitas.doc'\n",
            "'Relatório_Final_PJTC (Saionara).gdoc'\n",
            " Relatorio_Parcial_CEP_Novel.doc\n",
            " Relatorio_Parcial_CEP_Novel.doc.gdoc\n",
            "'Respostas de Alex (II).txt'\n",
            "'Respostas de Alex.txt'\n",
            "'resumoArtigoSBIE2017 - 6 (Pablo).docx'\n",
            "'resumoArtigoSBIE2017 - 6 (Pablo).docx.gdoc'\n",
            "'resumo artigo sbie 2017.docx'\n",
            " resumoArtigoSBIE2017.docx.gdoc\n",
            "'Roteiro para apresentação de Cretchas.gdoc'\n",
            "'Saionara - Pré-projeto 1 (Correções Saionara).gdoc'\n",
            "'[Saionara] Projeto - Gerenciamento de Compras - IFBA (Modelo Lógico) - 2 (Corrigido por Pablo).docx'\n",
            "'[Saionara] Projeto - Gerenciamento de Compras - IFBA.rar'\n",
            "'[Saionara] Projeto - Gerenciamento de Compras - IFBA (Sugestão Conceitual Pablo).brM'\n",
            "'[Saionara] Projeto - Gerenciamento de Compras - IFBA (Sugestão Conceitual Pablo).jpg'\n",
            "'(SAIONARA) Resumo, Esquema físico, Conclusão e Apêndices - 07 - 12.docx'\n",
            "'(SAIONARA) Resumo, Esquema físico e Conclusão - 07 - 12.docx'\n",
            " SANDRA_ANDRADE_SANTOS.pdf\n",
            "'Secitec 2014'\n",
            "'__SECITEC - insert minicurso (Sidney, Sayonara e Joedson).sql'\n",
            " SistemaDeDatashow.zip\n",
            "'Sprint 4 .gslides'\n",
            "'Sprint 4.gslides'\n",
            " Sprint_4_SRUS_Feedback.pdf\n",
            "'Sprint 5.gslides'\n",
            " Sprint_5_SRUS_Feedback.pdf\n",
            "'Sprint 7.gslides'\n",
            "'StokNet - Mockups.ep'\n",
            " TCC\n",
            "'teste exploratório Sirius2.gdoc'\n",
            "'Trabalho Redes.gdoc'\n",
            "'Tv digital.pptx.gslides'\n",
            " Untitled\n",
            "'Urso - familia.pdf · versão 1.pdf'\n",
            "'Versão final + regra de negócio.docx'\n",
            "'Versão final + regra de negócio + quadro de tarefas atualizado.docx'\n",
            "'Versão final + regra de negócio + quadro de tarefas atualizado + NovosItens.docx'\n",
            "'Versão final + regra de negócio + quadro de tarefas atualizado + NovosItens - FINAAL CABÔ (FALTA XANDY REVISAR).docx'\n",
            "'Versão Pós-Final + correções de formatação (falta inserir citações) - Revisado 03-04-15.docx'\n",
            " VID_20190212_205125417.mp4\n",
            "'Vídeos - Repetição e Importação de resultados'\n",
            " WIE\n",
            " WP_20141027_007.mp4\n",
            "'~WRL0344.tmp'\n",
            "'~WRL2967.tmp'\n",
            " WSouza\n"
          ]
        }
      ]
    },
    {
      "cell_type": "markdown",
      "metadata": {
        "id": "9wtKYXKHJ409"
      },
      "source": [
        "# **Biblioteca OS**"
      ]
    },
    {
      "cell_type": "markdown",
      "metadata": {
        "id": "VxR5zpdrLlCX"
      },
      "source": [
        "Para manipular arquivos e navegar entre os diretórios, o Python tem a biblioteca OS, que facilita essa comunicação do seu código com o sistema operacional. Como todas as outras bibliotecas que usaremos, é preciso, antes de mais nada, importar a biblioteca."
      ]
    },
    {
      "cell_type": "code",
      "metadata": {
        "id": "vud18sPnMUQ7"
      },
      "source": [
        "#importando a biblioteca OS (lembrando que tem que ser em letras minúsculas, pois o Python é case sentitive)\n",
        "import os"
      ],
      "execution_count": null,
      "outputs": []
    },
    {
      "cell_type": "markdown",
      "metadata": {
        "id": "IXYBN41VMo24"
      },
      "source": [
        "# **getcwd()**"
      ]
    },
    {
      "cell_type": "markdown",
      "metadata": {
        "id": "0UZ5v2BOMwHA"
      },
      "source": [
        "Sabe quando a gente se perde na rua e abre o GPS para nos encontrarmos? Essa é a função deste método. Ele nos diz exatamente em qual diretório estamos. Para isso, devemos chamar a biblioteca e o método:"
      ]
    },
    {
      "cell_type": "code",
      "metadata": {
        "colab": {
          "base_uri": "https://localhost:8080/",
          "height": 36
        },
        "id": "ABZXOoSNNA3z",
        "outputId": "bcd7f00f-36be-48ac-d302-003167729156"
      },
      "source": [
        "#verificando o diretóio atual\n",
        "os.getcwd()"
      ],
      "execution_count": null,
      "outputs": [
        {
          "output_type": "execute_result",
          "data": {
            "application/vnd.google.colaboratory.intrinsic+json": {
              "type": "string"
            },
            "text/plain": [
              "'/content'"
            ]
          },
          "metadata": {},
          "execution_count": 4
        }
      ]
    },
    {
      "cell_type": "markdown",
      "metadata": {
        "id": "3KEj5SsvNsdZ"
      },
      "source": [
        "# **chdir()**"
      ]
    },
    {
      "cell_type": "markdown",
      "metadata": {
        "id": "WQcZke9wNveZ"
      },
      "source": [
        "É importante também ter autonomia para alterar o diretório, sem que seja necessário digitar o endereço completo da localização do seu arquivo a todo instante. Para isso, utilize o comando chdir, que vem de change directory, ou seja escolher diretório. Ao executar este comando, informando o diretório ao qual deseja ser direcionado, o Pyton te leva diretamente a ele. Para ter certeza que está no local correto, vou pode utilizar o comando mostrado anteriomente para se certifiar que está no diretório correto."
      ]
    },
    {
      "cell_type": "code",
      "metadata": {
        "colab": {
          "base_uri": "https://localhost:8080/",
          "height": 36
        },
        "id": "KtS4NEgIOZxw",
        "outputId": "d7362afc-1445-4b72-fee8-ea8209be8c59"
      },
      "source": [
        "#Alterando o diretório:\n",
        "os.chdir(\"/content/drive/MyDrive\")\n",
        "\n",
        "#conferindo onde estamos:\n",
        "os.getcwd()"
      ],
      "execution_count": null,
      "outputs": [
        {
          "output_type": "execute_result",
          "data": {
            "application/vnd.google.colaboratory.intrinsic+json": {
              "type": "string"
            },
            "text/plain": [
              "'/content/drive/MyDrive'"
            ]
          },
          "metadata": {},
          "execution_count": 5
        }
      ]
    },
    {
      "cell_type": "markdown",
      "metadata": {
        "id": "LMsIs71HPPh-"
      },
      "source": [
        "# **listdir()**"
      ]
    },
    {
      "cell_type": "markdown",
      "metadata": {
        "id": "hB8oLXJJPR-1"
      },
      "source": [
        "Agora que já sabemos nos localizar (getcwd), escolher nosso ditetório de trabalho (chdir), é importante saber listar os arquivos que estão no diretório, para facilitar na definição de qual utitlizaremos. Para isso, vamos utilizar o método `listdir()`, que nos permite listar os arquivos presentes no diretório:"
      ]
    },
    {
      "cell_type": "code",
      "metadata": {
        "colab": {
          "base_uri": "https://localhost:8080/"
        },
        "id": "17OFvRQVPwow",
        "outputId": "83863bf0-12ee-4f7a-9283-04a09a6755a1"
      },
      "source": [
        "#listar os arquivos do diretório atual:\n",
        "os.listdir()"
      ],
      "execution_count": null,
      "outputs": [
        {
          "output_type": "execute_result",
          "data": {
            "text/plain": [
              "['Cronograma PJTC.gsheet',\n",
              " 'Be OS.gslides',\n",
              " 'Relatório Fevereiro 2014- Filipe Freitas.doc',\n",
              " 'NoSQL.docx',\n",
              " 'Marco Civil.pptx',\n",
              " 'Integer Overflow.gslides',\n",
              " 'SistemaDeDatashow.zip',\n",
              " 'Curriculo',\n",
              " 'Gestão de Qualidade.gdoc',\n",
              " 'Gestão de Qualidade.pdf',\n",
              " 'livro_beta2.pdf',\n",
              " 'CÓPIA CONTROLE  luciano Alex ZÉ  2014.xlsx.gsheet',\n",
              " 'Projeto redes 1',\n",
              " 'Projeto_Final.docx.gdoc',\n",
              " 'Minimundo.gdoc',\n",
              " 'FluxogramaSECOMP.dia',\n",
              " '__SECITEC - insert minicurso (Sidney, Sayonara e Joedson).sql',\n",
              " 'FluxogramaSECOMP.jpeg',\n",
              " 'Projeto - Gerenciamento de Compras - IFBA.docx',\n",
              " 'Secitec 2014',\n",
              " 'Respostas de Alex.txt',\n",
              " 'mapeamento BD noia (16_10).docx.gdoc',\n",
              " 'mapeamento BD noia (16_10).docx.rar',\n",
              " 'Lógico (24 - 10).jpg',\n",
              " 'Projeto - Gerenciamento de Compras - IFBA (Modelo Lógico).docx',\n",
              " '[Saionara] Projeto - Gerenciamento de Compras - IFBA (Sugestão Conceitual Pablo).jpg',\n",
              " '[Saionara] Projeto - Gerenciamento de Compras - IFBA (Sugestão Conceitual Pablo).brM',\n",
              " '[Saionara] Projeto - Gerenciamento de Compras - IFBA.rar',\n",
              " 'Processo Controlar os custos.pdf',\n",
              " '[Saionara] Projeto - Gerenciamento de Compras - IFBA (Modelo Lógico) - 2 (Corrigido por Pablo).docx',\n",
              " 'lógico (01 - 11).jpg',\n",
              " 'LOGICO_(01-11).brM',\n",
              " 'WP_20141027_007.mp4',\n",
              " 'Conceitual(04-11).brM',\n",
              " 'processos de planejamento de tempo.docx',\n",
              " 'Projeto - Gerenciamento de Compras - IFBA (Modelo Lógico v. 2.0).docx',\n",
              " 'LOGICO(12-11).brM',\n",
              " 'Trabalho Redes.gdoc',\n",
              " 'Gestão de Projetos - Primavera.gslides',\n",
              " 'backup-IFBA1.sql',\n",
              " 'Respostas de Alex (II).txt',\n",
              " 'FluxogramaSECOMP.dia~~',\n",
              " 'FluxogramaSECOMP_Atualizado (26-11).jpeg',\n",
              " '(SAIONARA) Resumo, Esquema físico e Conclusão - 07 - 12.docx',\n",
              " '(SAIONARA) Resumo, Esquema físico, Conclusão e Apêndices - 07 - 12.docx',\n",
              " 'BD Projeto.rar',\n",
              " 'Anexo 01 - Esquema Conceitual.jpg',\n",
              " 'Versão final + regra de negócio.docx',\n",
              " 'backlog background.gsheet',\n",
              " 'Sprint 4.gslides',\n",
              " 'Versão final + regra de negócio + quadro de tarefas atualizado.docx',\n",
              " 'Versão final + regra de negócio + quadro de tarefas atualizado + NovosItens.docx',\n",
              " 'Versão final + regra de negócio + quadro de tarefas atualizado + NovosItens - FINAAL CABÔ (FALTA XANDY REVISAR).docx',\n",
              " 'Sprint 4 .gslides',\n",
              " 'Sprint_4_SRUS_Feedback.pdf',\n",
              " 'Versão Pós-Final + correções de formatação (falta inserir citações) - Revisado 03-04-15.docx',\n",
              " 'Sprint_5_SRUS_Feedback.pdf',\n",
              " 'Anexos-Edital-No-01-PRPGI-PIBIC-IFBA-FAPESB-2015_saionara.gdoc',\n",
              " '2015, Template Projeto-saionara (1).gdoc',\n",
              " '2015, Template Projeto-saionara.gdoc',\n",
              " 'teste exploratório Sirius2.gdoc',\n",
              " 'Apresentação Mineração de Dados.gslides',\n",
              " 'Sprint 5.gslides',\n",
              " 'Sprint 7.gslides',\n",
              " 'Artigo Mobile.gdoc',\n",
              " 'Roteiro para apresentação de Cretchas.gdoc',\n",
              " 'Certificados',\n",
              " 'Projeto AMS I - Catia Oliveira e Saionara Araújo (1).docx.doc',\n",
              " 'Tv digital.pptx.gslides',\n",
              " 'IFBA-Modelo de Relatorio de Avaliacao-v1.0.doc',\n",
              " 'Projeto AMS I - Catia Oliveira e Saionara Araújo.docx.doc',\n",
              " 'IFBA-BSI-Requisitos-v1.0 (1).doc.gdoc',\n",
              " 'StokNet - Mockups.ep',\n",
              " 'IFBA-BSI-Requisitos-v1.0.doc.gdoc',\n",
              " 'prova CA 3a 2014.2.pdf',\n",
              " 'prova CA 2a 2014.2 Saionara da Silva Araújo.pdf',\n",
              " 'Anteprojeto_Maiane_Salomao_1.0.docx',\n",
              " '__Anexo I - Ficha de inscrição.docx',\n",
              " '2016, Projeto e-Sinais (Saioanara).gdoc',\n",
              " '2016, Projeto e-Sinais (somente Saionara) - 1 (OBS Pablo).gdoc',\n",
              " '__Anexo I - Ficha de inscrição.gdoc',\n",
              " '__Anexo I - Ficha de inscrição.docx.gdoc',\n",
              " '089.pdf',\n",
              " 'TCC',\n",
              " 'Mineração de Dados - Trabalho',\n",
              " 'Saionara - Pré-projeto 1 (Correções Saionara).gdoc',\n",
              " 'Apresentação 1 - AMS 2.gslides',\n",
              " 'SANDRA_ANDRADE_SANTOS.pdf',\n",
              " 'CSBC2016-SilvaEtAl-1.gslides',\n",
              " 'IoT',\n",
              " 'Artigo_Mineração_2016.doc',\n",
              " 'Barema.pdf',\n",
              " 'Artigo connepi',\n",
              " 'Artigo Connepi Mineração de Dados',\n",
              " 'Cópia de Nathaniel.gslides',\n",
              " 'Cópia de Snug.gslides',\n",
              " 'Apresentação DA.gslides',\n",
              " 'e-Sinais - Final (outubro).rar',\n",
              " 'POSTER_CONNEPI2016.pptx',\n",
              " 'CONNEPI2016-LacerdaEtAl-Mineração-6.docx',\n",
              " 'CONNEPI2016-LacerdaEtAl-Mineração-6.docx.gdoc',\n",
              " 'POSTER_CONNEPI2016.pptx.gslides',\n",
              " 'e-Sinais.rar',\n",
              " 'Apresentação final Programas Universais.gslides',\n",
              " 'resumo artigo sbie 2017.docx',\n",
              " 'Documentos',\n",
              " '2017-04-24- Tecnologia Assistiva e Software Educacional (Jornada Pedagógica 2017).gslides',\n",
              " 'resumoArtigoSBIE2017.docx.gdoc',\n",
              " 'resumoArtigoSBIE2017 - 6 (Pablo).docx',\n",
              " 'resumoArtigoSBIE2017 - 6 (Pablo).docx.gdoc',\n",
              " 'Projeto e-Sinais',\n",
              " 'backup.zip',\n",
              " 'Cópia de Hecate.gslides',\n",
              " 'Aéreo - Pedido Allexandre.gdoc',\n",
              " 'Aéreo - Orçamentos e comprovantes.gdoc',\n",
              " 'Relatório de atividades desenvolvidas.gdoc',\n",
              " 'WSouza',\n",
              " 'Monografia_TCC2 - v14 - Versão com sugestões da banca  (Saionara).docx',\n",
              " 'DadosIntegrantesProjeto.gsheet',\n",
              " 'Material Estudo de Caso e-Sinais',\n",
              " 'Documentação SisFarma.docx.gdoc',\n",
              " 'WIE',\n",
              " 'Relatorio_Parcial_CEP_Novel.doc',\n",
              " 'Relatorio_Parcial_CEP_Novel.doc.gdoc',\n",
              " 'Modelo Capa  Monografia CDs Atual.gdoc',\n",
              " 'Capa para CD - Kauanna.gdoc',\n",
              " 'Capa para CD.gdoc',\n",
              " 'Artigo_Mineração_2016.doc.gdoc',\n",
              " 'Avaliação do SIPF.docx',\n",
              " 'Mobile.gslides',\n",
              " '~$cumentação SIPF Sistemas Integrados Paulo Freire.docx',\n",
              " '~WRL0344.tmp',\n",
              " '~WRL2967.tmp',\n",
              " 'Documentação SIPF Sistemas Integrados Paulo Freire.docx',\n",
              " 'BAREMA - Saionara.xlsx',\n",
              " 'Projeto do mestrado',\n",
              " 'Relatório_Final_PJTC (Saionara).gdoc',\n",
              " 'Projeto de Pesquisa_Mestrado - v2 (Saionara) (4).gdoc',\n",
              " 'DOC-20171115-WA0001 (3).gdoc',\n",
              " 'Projeto de Pesquisa_Mestrado - v2 (Saionara) (3).gdoc',\n",
              " 'DOC-20171115-WA0001 (2).gdoc',\n",
              " 'Projeto de Pesquisa_Mestrado - v2 (Saionara) (2).gdoc',\n",
              " 'DOC-20171115-WA0001 (1).gdoc',\n",
              " 'Projeto de Pesquisa_Mestrado - v2 (Saionara) (1).gdoc',\n",
              " 'DOC-20171115-WA0001.gdoc',\n",
              " 'Projeto de Pesquisa_Mestrado - v2 (Pablo).gdoc',\n",
              " 'Projeto de Pesquisa_Mestrado - v2 (Saionara).gdoc',\n",
              " 'Diego.docx',\n",
              " 'CURRICULO_SAIONARA.pdf',\n",
              " 'É esse.docx',\n",
              " 'Documento sem título.gdoc',\n",
              " 'Planilha sem título (1).gsheet',\n",
              " 'Mapemaneto de usuários das pastas no x público.gdoc',\n",
              " 'Planilha sem título.gsheet',\n",
              " 'Projeto de Pesquisa_TCC - v8 (Pablo) - Versão final TCC-I.pdf',\n",
              " 'VID_20190212_205125417.mp4',\n",
              " 'Formulário sem título (1).gform',\n",
              " 'Formulário sem título.gform',\n",
              " 'IFBA-TCC',\n",
              " 'downloadfile-9.bin',\n",
              " 'apostila amigurumi.pdf',\n",
              " 'NANINHA VARIOS MODELOS.pdf',\n",
              " 'Urso - familia.pdf · versão 1.pdf',\n",
              " '50 CHAVEIROS.pdf · versão 1.pdf',\n",
              " 'O Pequeno Príncipe Traduzido.pdf',\n",
              " 'ATIVIDADES - TI',\n",
              " 'Atividade_Diego.gdoc',\n",
              " 'aula01',\n",
              " 'Untitled',\n",
              " 'aula02.ipynb',\n",
              " 'aula03',\n",
              " 'aula03.ipynb',\n",
              " 'recibo_13062020185732.png',\n",
              " 'Vídeos - Repetição e Importação de resultados',\n",
              " 'Colab Notebooks',\n",
              " 'Foto de Saionara.gdoc']"
            ]
          },
          "metadata": {},
          "execution_count": 18
        }
      ]
    },
    {
      "cell_type": "markdown",
      "metadata": {
        "id": "jDPNwN9KQOhU"
      },
      "source": [
        "# **open() / close()**"
      ]
    },
    {
      "cell_type": "markdown",
      "metadata": {
        "id": "f2aB7IenQQws"
      },
      "source": [
        "Para manipular os arquivos, a biblioteca possui os métodos `open()` e `close()`. Como os nomes sugerem, eles servem, respectivamente para abrir e fechar um arquivo. E aqui vale ressaltar que SEMPRE que abrimos um arquivo, após realizar as manipulações necessárias, é PRECISO fechar. Enquanto o arquivo estiver \"aberto\" em nosso código, estamos consumindo a memória RAM da máquina, além de não permitir que outras pessoas acessem este arquivo. O consumo de memória não seria um grande problema para arquivos pequenos, mas pense em arquivos grandes, com milhares de linhas? E a situação chata de alguém precisar utilizar o arquivo e ele estar \"ocupado\" sem necessidade? Então lembre-se (e leve para a vida): Abriu? Usou? Fechou!"
      ]
    },
    {
      "cell_type": "markdown",
      "metadata": {
        "id": "Y1_rZM4INKJ0"
      },
      "source": [
        "Para começar, vamos criar um arquivo para utilizarmos, e \"guardá-lo\" numa variável."
      ]
    },
    {
      "cell_type": "code",
      "metadata": {
        "id": "YYGtrl_1Nckh"
      },
      "source": [
        "#criando o arquivo:\n",
        "arquivo = \"arquivo.txt\""
      ],
      "execution_count": null,
      "outputs": []
    },
    {
      "cell_type": "markdown",
      "metadata": {
        "id": "9ubSl-zyOCtS"
      },
      "source": [
        "Existem modos para abrir m arquivo, o que depende da sua intenção. Para abrir é preciso executar o seguinte código: `file = open (nome_do_arquivo, 'modo de abertura'`, onde o modo pode ser uma dos seguintes: \n",
        "\n",
        "* 'r' - abre o arquivo para leitura;\n",
        "* 'w' - as alterações realizadas serão salvas sobrescrevendo o que poderia conter no arquivo;\n",
        "* 'x' - neste caso, o arquivo é criado. Caso o arquivo exista previamente, o comando exibirá uma mensagem de erro;\n",
        "* 'a' - ao abrir o arquivo deste modo, as alterações realizadas serão gravadas no fim do arquivo, funcionando como um \"modo anexo\" Caso o arquivo não exista, ele será criado;\n",
        "* 'b' - define que o arquivo a ser aberto será do tipo binário, sendo arquivos que não são de texto, por exemplo imagens, áudios e vídeos;\n",
        "* 't' - ao contrário do parametro anterior, neste caso espera-se que o arquivo seja de texto, o que é o padrão;\n",
        "* '+' - o arquivo será aberto para leitura e escrita e atualizado conforme nova edição."
      ]
    },
    {
      "cell_type": "code",
      "metadata": {
        "id": "K21p06PsNrlq"
      },
      "source": [
        "#abrindo o arquivo:\n",
        "file = open (arquivo,'w')\n",
        "#escrevendo algo no arquivo\n",
        "file.write ('Escrevendo no arquivo..')\n",
        "#fechando o arquivo\n",
        "file.close()"
      ],
      "execution_count": null,
      "outputs": []
    },
    {
      "cell_type": "markdown",
      "metadata": {
        "id": "fkXXaGIhWZMV"
      },
      "source": [
        "Para imprimir o que há no arquivo, podemos utilizar  a seguinte forma:"
      ]
    },
    {
      "cell_type": "code",
      "metadata": {
        "colab": {
          "base_uri": "https://localhost:8080/"
        },
        "id": "HoNTd9hKWht_",
        "outputId": "f7e61d92-4352-4502-9009-bcd1552ef65f"
      },
      "source": [
        "#abrindo o arquivo:\n",
        "file = open (arquivo,'r')\n",
        "#imprimindo o que há no arquivo\n",
        "print (file.read ())\n",
        "#fechando o arquivo\n",
        "file.close()"
      ],
      "execution_count": null,
      "outputs": [
        {
          "output_type": "stream",
          "name": "stdout",
          "text": [
            "Escrevendo no arquivo..\n",
            "dmsaldmksamdklams\n"
          ]
        }
      ]
    },
    {
      "cell_type": "markdown",
      "metadata": {
        "id": "LBKC5hOUWw2E"
      },
      "source": [
        "Há outras maneiras de acessar e manupular um arquivo em Python. Outro modo é utilizar a função `with`, que um tipo de função de **lambda**, que será explicada em um outro momento mais profundamente. Por hora, o que precisamos saber é que neste de função, em apenas uma linha podemos definir metódo, objeto e função. Observe o exemplo para manipular um arquivo:"
      ]
    },
    {
      "cell_type": "code",
      "metadata": {
        "id": "_qw1A3nfXVY-"
      },
      "source": [
        "#escrevendo e criando o arquivo:\n",
        "with open (\"teste.txt\",\"w\") as txt:\n",
        "  txt.write(\"teste\")"
      ],
      "execution_count": null,
      "outputs": []
    },
    {
      "cell_type": "markdown",
      "metadata": {
        "id": "aswfqlc7Yys_"
      },
      "source": [
        "Como vimos, ao utilizar este modo é preciso seguir a sintaxe descrita que se resume em dizer: \n",
        "`com` o arquivo aberto com a função \"x\", faça determinada tarefa: \n",
        "  tarefa\n",
        "Para verificar a alteração, vamos ver o que está escrito no arquivo:"
      ]
    },
    {
      "cell_type": "code",
      "metadata": {
        "colab": {
          "base_uri": "https://localhost:8080/"
        },
        "id": "O8rSj6WTaadP",
        "outputId": "3a3b21bb-f803-4bde-90a5-ca56cab1271c"
      },
      "source": [
        "#lendo o arquivo:\n",
        "with open(\"teste.txt\",'r') as txt:\n",
        "  print (txt.read())"
      ],
      "execution_count": null,
      "outputs": [
        {
          "output_type": "stream",
          "name": "stdout",
          "text": [
            "teste\n"
          ]
        }
      ]
    },
    {
      "cell_type": "markdown",
      "metadata": {
        "id": "8jv_on9ybJIx"
      },
      "source": [
        "Além de manipular o arquivo para escrever, ler, atualizar ou apagar informações, podemos tamb renomear o arquivo, mover de diretório, dentre outras funções que não afetam as informações contidas internamente. Vamos analisar algumas."
      ]
    },
    {
      "cell_type": "markdown",
      "metadata": {
        "id": "L95o4u9nbg-3"
      },
      "source": [
        "# **rename()**"
      ]
    },
    {
      "cell_type": "markdown",
      "metadata": {
        "id": "9aVB2mxjbnVn"
      },
      "source": [
        "Para renomear o arquivo, existe o método `rename()`. A sintaxe para utilizar o método é a seguinte: biblioteca.rename(\"nome_atual\",\"novo_nome\"). Vejamos a seguir um exemplo."
      ]
    },
    {
      "cell_type": "code",
      "metadata": {
        "colab": {
          "base_uri": "https://localhost:8080/",
          "height": 191
        },
        "id": "gFC6919hcGQ_",
        "outputId": "21c3a9df-d2ad-4607-8a0b-92628d2f4671"
      },
      "source": [
        "#renomeando um arquivo:\n",
        "os.rename(\"teste.txt\",\"teste_altera_nome.txt\")"
      ],
      "execution_count": null,
      "outputs": [
        {
          "output_type": "error",
          "ename": "FileNotFoundError",
          "evalue": "ignored",
          "traceback": [
            "\u001b[0;31m---------------------------------------------------------------------------\u001b[0m",
            "\u001b[0;31mFileNotFoundError\u001b[0m                         Traceback (most recent call last)",
            "\u001b[0;32m<ipython-input-14-a4220f47edc8>\u001b[0m in \u001b[0;36m<module>\u001b[0;34m()\u001b[0m\n\u001b[1;32m      1\u001b[0m \u001b[0;31m#renomeando um arquivo:\u001b[0m\u001b[0;34m\u001b[0m\u001b[0;34m\u001b[0m\u001b[0;34m\u001b[0m\u001b[0m\n\u001b[0;32m----> 2\u001b[0;31m \u001b[0mos\u001b[0m\u001b[0;34m.\u001b[0m\u001b[0mrename\u001b[0m\u001b[0;34m(\u001b[0m\u001b[0;34m\"teste.txt\"\u001b[0m\u001b[0;34m,\u001b[0m\u001b[0;34m\"teste_altera_nome.txt\"\u001b[0m\u001b[0;34m)\u001b[0m\u001b[0;34m\u001b[0m\u001b[0;34m\u001b[0m\u001b[0m\n\u001b[0m",
            "\u001b[0;31mFileNotFoundError\u001b[0m: [Errno 2] No such file or directory: 'teste.txt' -> 'teste_altera_nome.txt'"
          ]
        }
      ]
    },
    {
      "cell_type": "markdown",
      "metadata": {
        "id": "cgIUw7vcBnSw"
      },
      "source": [
        "# **Manipulando arquivos PDF**"
      ]
    },
    {
      "cell_type": "markdown",
      "metadata": {
        "id": "fByYpIg1Btea"
      },
      "source": [
        "A biblioteca sugerida foi a **pdfplumber**, inidicada para manipulação de arquivos PDF, porém não nativa no Colab. Para estes casos, é preciso instalar a biblioteca, antes de qualquer coisa. Para isso utilizamos o comando `!pip install nome_biblioteca`"
      ]
    },
    {
      "cell_type": "code",
      "metadata": {
        "colab": {
          "base_uri": "https://localhost:8080/"
        },
        "id": "u5GO8IZoCI5j",
        "outputId": "8cc9d274-3b02-4a70-aa97-aa1b873c9f5b"
      },
      "source": [
        "#instalando a biblioteca PDFPLUMBER\n",
        "!pip install pdfplumber"
      ],
      "execution_count": null,
      "outputs": [
        {
          "output_type": "stream",
          "name": "stdout",
          "text": [
            "Collecting pdfplumber\n",
            "  Downloading pdfplumber-0.5.28.tar.gz (45 kB)\n",
            "\u001b[K     |████████████████████████████████| 45 kB 2.7 MB/s \n",
            "\u001b[?25hCollecting pdfminer.six==20200517\n",
            "  Downloading pdfminer.six-20200517-py3-none-any.whl (5.6 MB)\n",
            "\u001b[K     |████████████████████████████████| 5.6 MB 7.1 MB/s \n",
            "\u001b[?25hRequirement already satisfied: Pillow>=7.0.0 in /usr/local/lib/python3.7/dist-packages (from pdfplumber) (7.1.2)\n",
            "Collecting Wand\n",
            "  Downloading Wand-0.6.7-py2.py3-none-any.whl (139 kB)\n",
            "\u001b[K     |████████████████████████████████| 139 kB 46.3 MB/s \n",
            "\u001b[?25hRequirement already satisfied: chardet in /usr/local/lib/python3.7/dist-packages (from pdfminer.six==20200517->pdfplumber) (3.0.4)\n",
            "Requirement already satisfied: sortedcontainers in /usr/local/lib/python3.7/dist-packages (from pdfminer.six==20200517->pdfplumber) (2.4.0)\n",
            "Collecting pycryptodome\n",
            "  Downloading pycryptodome-3.12.0-cp35-abi3-manylinux2010_x86_64.whl (2.0 MB)\n",
            "\u001b[K     |████████████████████████████████| 2.0 MB 34.8 MB/s \n",
            "\u001b[?25hBuilding wheels for collected packages: pdfplumber\n",
            "  Building wheel for pdfplumber (setup.py) ... \u001b[?25l\u001b[?25hdone\n",
            "  Created wheel for pdfplumber: filename=pdfplumber-0.5.28-py3-none-any.whl size=32240 sha256=ebd86afaba590023ed55ffce45e2078186ddebddc2ac95dc68a60bca93825143\n",
            "  Stored in directory: /root/.cache/pip/wheels/f2/b1/a0/c0a77b756d580f53b3806ae0e0b3ec945a8d05fca1d6e10cc1\n",
            "Successfully built pdfplumber\n",
            "Installing collected packages: pycryptodome, Wand, pdfminer.six, pdfplumber\n",
            "Successfully installed Wand-0.6.7 pdfminer.six-20200517 pdfplumber-0.5.28 pycryptodome-3.12.0\n"
          ]
        }
      ]
    },
    {
      "cell_type": "markdown",
      "metadata": {
        "id": "n16_lygACpqs"
      },
      "source": [
        "Após a instalação, basta importar, como já aprendemos, e utilizar. Neste notebook vamos utilizar as bibliotecas **pdfplumber**,**os** e a **drive**, sendo que as duas ultimas já foram declaradas anteriormente, neste mesmo arquivo, por isso não precisarão ser importadas. Vamos por tanto, importar apenas a `pdfplumber`"
      ]
    },
    {
      "cell_type": "code",
      "metadata": {
        "id": "4WlMqULXDN2a"
      },
      "source": [
        "#importando a biblioteca para manipulação de PDF:\n",
        "import pdfplumber"
      ],
      "execution_count": null,
      "outputs": []
    },
    {
      "cell_type": "markdown",
      "metadata": {
        "id": "L4BXbZRfElwo"
      },
      "source": [
        "# pdfplumber.open()"
      ]
    },
    {
      "cell_type": "markdown",
      "metadata": {
        "id": "ajqJ42L5ErzT"
      },
      "source": [
        "Para abrir o arquivo o comando é `pdfplumber.open(x)`, sendo x o arquivo que iremos explorar. Segundo a documentação oficial, o x pode ser:\n",
        "\n",
        "*   o caminho do arquivo;\n",
        "*   um objeto do tipo arquivo;\n",
        "* um ojeto semelhante a um arquivo.\n",
        "\n",
        "Vamos carregar um arquivo, passando como argumento da função open, o caminho deste.\n",
        "\n"
      ]
    },
    {
      "cell_type": "code",
      "metadata": {
        "id": "ghtgJHkLGYQ7"
      },
      "source": [
        "#abrindo um arquivo e guardando em uma variável:\n",
        "pdf = pdfplumber.open('/content/drive/MyDrive/089.pdf')"
      ],
      "execution_count": null,
      "outputs": []
    },
    {
      "cell_type": "markdown",
      "metadata": {
        "id": "S-NlogmsGuGb"
      },
      "source": [
        "Agora estamos com os dados do arquivo na memória do computador e podemos fazer as manipulações necessárias."
      ]
    },
    {
      "cell_type": "markdown",
      "metadata": {
        "id": "G6qLBiJJG3Nw"
      },
      "source": [
        "# pages"
      ]
    },
    {
      "cell_type": "markdown",
      "metadata": {
        "id": "dir-sze5G5TD"
      },
      "source": [
        "A função pages, nos retorna a quantidade de páginas que o compõe o documento. Se apenas declaramos, como está no título desta seção, itemos saber quantas páginas temos no arquivo. Contudo, para acessar uma das páginas, precisamos passar o índice da página como argumento na função."
      ]
    },
    {
      "cell_type": "code",
      "metadata": {
        "colab": {
          "base_uri": "https://localhost:8080/"
        },
        "id": "KgjjMkrwHu8h",
        "outputId": "6fbe52cb-537e-432d-f6ad-ae2a13fc3cbe"
      },
      "source": [
        "#descobindo quantas páginas o arquivo possui\n",
        "pdf.pages"
      ],
      "execution_count": null,
      "outputs": [
        {
          "output_type": "execute_result",
          "data": {
            "text/plain": [
              "[<Page:1>,\n",
              " <Page:2>,\n",
              " <Page:3>,\n",
              " <Page:4>,\n",
              " <Page:5>,\n",
              " <Page:6>,\n",
              " <Page:7>,\n",
              " <Page:8>]"
            ]
          },
          "metadata": {},
          "execution_count": 4
        }
      ]
    },
    {
      "cell_type": "code",
      "metadata": {
        "id": "2QnBF1jAH2S2",
        "outputId": "16455138-5288-4df0-84e5-6ffc6bbafcd8",
        "colab": {
          "base_uri": "https://localhost:8080/"
        }
      },
      "source": [
        "#acessando uma das página:\n",
        "pdf.pages[1]"
      ],
      "execution_count": null,
      "outputs": [
        {
          "output_type": "execute_result",
          "data": {
            "text/plain": [
              "<Page:2>"
            ]
          },
          "metadata": {},
          "execution_count": 5
        }
      ]
    }
  ]
}